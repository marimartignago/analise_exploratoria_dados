{
  "nbformat": 4,
  "nbformat_minor": 0,
  "metadata": {
    "colab": {
      "name": "desafio1",
      "provenance": [],
      "mount_file_id": "1tDbsm-CZGRAITSvTfNTO14mKhoo8ywAf",
      "authorship_tag": "ABX9TyORKfmg8ZFxkHS62GIdQwcP",
      "include_colab_link": true
    },
    "kernelspec": {
      "name": "python3",
      "display_name": "Python 3"
    },
    "language_info": {
      "name": "python"
    }
  },
  "cells": [
    {
      "cell_type": "markdown",
      "metadata": {
        "id": "view-in-github",
        "colab_type": "text"
      },
      "source": [
        "<a href=\"https://colab.research.google.com/github/marimartignago/analise_exploratoria_dados/blob/main/desafio1.ipynb\" target=\"_parent\"><img src=\"https://colab.research.google.com/assets/colab-badge.svg\" alt=\"Open In Colab\"/></a>"
      ]
    },
    {
      "cell_type": "markdown",
      "metadata": {
        "id": "nToig5ifjDUR"
      },
      "source": [
        "**Desafio 1 Tera - Arquivo em construção** "
      ]
    },
    {
      "cell_type": "markdown",
      "metadata": {
        "id": "4Fk57I2od9wT"
      },
      "source": [
        "#Dataset 1\n",
        "\n",
        "Usando o dataset 1, registre suas impressões iniciais em um documento e em seguida trabalhe nos itens a seguir. \n",
        "\n",
        "**Dataset e seu contexto**"
      ]
    },
    {
      "cell_type": "code",
      "metadata": {
        "id": "1kJcjikbnoiC"
      },
      "source": [
        "import pandas as pd\n",
        "import matplotlib.pyplot as plt\n",
        "import seaborn as sns\n",
        "\n",
        "dataset1 = pd.read_csv('/content/drive/MyDrive/Tera/dataset1.csv', encoding='ISO-8859-1')"
      ],
      "execution_count": null,
      "outputs": []
    },
    {
      "cell_type": "markdown",
      "metadata": {
        "id": "ffbVnUowp4iS"
      },
      "source": [
        "\n",
        "\n",
        "**Quantas linhas e quantas colunas esse dataset possui?**"
      ]
    },
    {
      "cell_type": "code",
      "metadata": {
        "colab": {
          "base_uri": "https://localhost:8080/"
        },
        "id": "AtCanDFzpmm6",
        "outputId": "0e67883a-1495-4a74-94c3-7a6111ce884d"
      },
      "source": [
        "dataset1.shape"
      ],
      "execution_count": null,
      "outputs": [
        {
          "output_type": "execute_result",
          "data": {
            "text/plain": [
              "(106, 11)"
            ]
          },
          "metadata": {},
          "execution_count": 17
        }
      ]
    },
    {
      "cell_type": "code",
      "metadata": {
        "id": "BKhz7plMx2_G"
      },
      "source": [
        ""
      ],
      "execution_count": null,
      "outputs": []
    },
    {
      "cell_type": "code",
      "metadata": {
        "colab": {
          "base_uri": "https://localhost:8080/",
          "height": 206
        },
        "id": "Krn5QUZFNdBv",
        "outputId": "25725ae4-f933-45c6-b66a-6f399f56f194"
      },
      "source": [
        "dataset1.head()"
      ],
      "execution_count": null,
      "outputs": [
        {
          "output_type": "execute_result",
          "data": {
            "text/html": [
              "<div>\n",
              "<style scoped>\n",
              "    .dataframe tbody tr th:only-of-type {\n",
              "        vertical-align: middle;\n",
              "    }\n",
              "\n",
              "    .dataframe tbody tr th {\n",
              "        vertical-align: top;\n",
              "    }\n",
              "\n",
              "    .dataframe thead th {\n",
              "        text-align: right;\n",
              "    }\n",
              "</style>\n",
              "<table border=\"1\" class=\"dataframe\">\n",
              "  <thead>\n",
              "    <tr style=\"text-align: right;\">\n",
              "      <th></th>\n",
              "      <th>Id</th>\n",
              "      <th>Name</th>\n",
              "      <th>Platform</th>\n",
              "      <th>Year_of_Release</th>\n",
              "      <th>Genre</th>\n",
              "      <th>Publisher</th>\n",
              "      <th>NA_Sales</th>\n",
              "      <th>EU_Sales</th>\n",
              "      <th>JP_Sales</th>\n",
              "      <th>Other_Sales</th>\n",
              "      <th>Global_Sales</th>\n",
              "    </tr>\n",
              "  </thead>\n",
              "  <tbody>\n",
              "    <tr>\n",
              "      <th>0</th>\n",
              "      <td>1</td>\n",
              "      <td>Wii Sports</td>\n",
              "      <td>NaN</td>\n",
              "      <td>2006</td>\n",
              "      <td>Sports</td>\n",
              "      <td>Nintendo</td>\n",
              "      <td>41.36</td>\n",
              "      <td>28.96</td>\n",
              "      <td>3.77</td>\n",
              "      <td>8.45</td>\n",
              "      <td>82.53</td>\n",
              "    </tr>\n",
              "    <tr>\n",
              "      <th>1</th>\n",
              "      <td>2</td>\n",
              "      <td>Super Mario Bros.</td>\n",
              "      <td>NES</td>\n",
              "      <td>1985</td>\n",
              "      <td>Platform</td>\n",
              "      <td>Nintendo</td>\n",
              "      <td>29.08</td>\n",
              "      <td>3.58</td>\n",
              "      <td>6.81</td>\n",
              "      <td>0.77</td>\n",
              "      <td>40.24</td>\n",
              "    </tr>\n",
              "    <tr>\n",
              "      <th>2</th>\n",
              "      <td>3</td>\n",
              "      <td>Mario Kart Wii</td>\n",
              "      <td>NaN</td>\n",
              "      <td>2008</td>\n",
              "      <td>Racing</td>\n",
              "      <td>Nintendo</td>\n",
              "      <td>15.68</td>\n",
              "      <td>12.76</td>\n",
              "      <td>3.79</td>\n",
              "      <td>3.29</td>\n",
              "      <td>35.52</td>\n",
              "    </tr>\n",
              "    <tr>\n",
              "      <th>3</th>\n",
              "      <td>4</td>\n",
              "      <td>Wii Sports Resort</td>\n",
              "      <td>NaN</td>\n",
              "      <td>2009</td>\n",
              "      <td>Sports</td>\n",
              "      <td>Nintendo</td>\n",
              "      <td>15.61</td>\n",
              "      <td>10.93</td>\n",
              "      <td>3.28</td>\n",
              "      <td>2.95</td>\n",
              "      <td>32.77</td>\n",
              "    </tr>\n",
              "    <tr>\n",
              "      <th>4</th>\n",
              "      <td>5</td>\n",
              "      <td>Pokemon Red/Pokemon Blue</td>\n",
              "      <td>GB</td>\n",
              "      <td>1996</td>\n",
              "      <td>Role-Playing</td>\n",
              "      <td>Nintendo</td>\n",
              "      <td>11.27</td>\n",
              "      <td>8.89</td>\n",
              "      <td>10.22</td>\n",
              "      <td>1,0</td>\n",
              "      <td>31.37</td>\n",
              "    </tr>\n",
              "  </tbody>\n",
              "</table>\n",
              "</div>"
            ],
            "text/plain": [
              "   Id                      Name Platform  ... JP_Sales Other_Sales Global_Sales\n",
              "0   1                Wii Sports      NaN  ...     3.77        8.45        82.53\n",
              "1   2         Super Mario Bros.      NES  ...     6.81        0.77        40.24\n",
              "2   3            Mario Kart Wii      NaN  ...     3.79        3.29        35.52\n",
              "3   4         Wii Sports Resort      NaN  ...     3.28        2.95        32.77\n",
              "4   5  Pokemon Red/Pokemon Blue       GB  ...    10.22         1,0        31.37\n",
              "\n",
              "[5 rows x 11 columns]"
            ]
          },
          "metadata": {},
          "execution_count": 3
        }
      ]
    },
    {
      "cell_type": "markdown",
      "metadata": {
        "id": "dOUOE5jCqnIU"
      },
      "source": [
        "**Faça um dicionário das colunas contendo o nome da coluna, o tipo do dado, e seu significado.**"
      ]
    },
    {
      "cell_type": "code",
      "metadata": {
        "colab": {
          "base_uri": "https://localhost:8080/"
        },
        "id": "TGTgLLPQqow6",
        "outputId": "66d16076-49e1-45a1-a1ca-e0a197384ef1"
      },
      "source": [
        "dataset1.columns"
      ],
      "execution_count": null,
      "outputs": [
        {
          "output_type": "execute_result",
          "data": {
            "text/plain": [
              "Index(['Id', 'Name', 'Platform', 'Year_of_Release', 'Genre', 'Publisher',\n",
              "       'NA_Sales', 'EU_Sales', 'JP_Sales', 'Other_Sales', 'Global_Sales'],\n",
              "      dtype='object')"
            ]
          },
          "metadata": {},
          "execution_count": 18
        }
      ]
    },
    {
      "cell_type": "markdown",
      "metadata": {
        "id": "zBOuHP3lKqUd"
      },
      "source": [
        "**Dicionário das colunas**\n",
        "\n",
        "*   Id: inteiro. identificação do jogo cadastrado.\n",
        "*   Name: nome do jogo. varchar\n",
        "*   Platform: plataforma do jogo. varchar\n",
        "*   Year_of_Release: ano de lançamento do jogo. data.\n",
        "*   Genre: gênero (tipo) de jogo. varchar.\n",
        "*   Publisher: marca do jogo. varchar.\n",
        "*   NA_Sales:  vendas na américa do norte. inteiro.\n",
        "*   EU_Sales: vendas na União Europeia\n",
        "*   JP_Sales: Vendas no Japão\n",
        "*   Other_Sales: vendas nos outros lugares do mundo\n",
        "*   Global_Sales.total de vendas no mundo. inteiro. (em unidades vendidas)\t\n"
      ]
    },
    {
      "cell_type": "markdown",
      "metadata": {
        "id": "1lSUvImKGCqU"
      },
      "source": [
        "**Analise o seu dicionário e adicione mais uma informação. Tipo da variável: Categórica ou Quantitativa. Acrescente ainda as subdivisões:**\n",
        "\n",
        "- Categórica: Binária, Nominal, Ordinal\n",
        "- Quantitativa: Discreta, Contínua <br>\n",
        "\n",
        "\n",
        "\n",
        "* Id: categórica ordinal </br>\n",
        "* Name: categórica nominal</br>\n",
        "* Platform: categórica nominal</br>\n",
        "* Year_of_Release: categórica ordinal</br>\n",
        "* Genre: categórica nominal</br>\n",
        "* Publisher: categórica nominal</br>\n",
        "* NA_Sales:  discreta</br>\n",
        "* EU_Sales:discreta</br>\n",
        "* JP_Sales: discreta</br>\n",
        "* Other_Sales:discreta</br>\n",
        "* Global_Sales:discreta"
      ]
    },
    {
      "cell_type": "markdown",
      "metadata": {
        "id": "OE7W0XquGJnR"
      },
      "source": [
        "**Explique como esse Dataset pode ter sido coletado e descreva:**\n",
        "\n",
        "**- potenciais transformações desde a fonte até a disponibilização do dataset**</br>\n",
        "definir melhor algumas colunas (permitir que o campo data seja escrito de uma única maneira); unidade de medida para as colunas de sales. \n",
        "\n",
        "**Aponte possíveis vieses de coleta** </br>\n",
        "Viés de seleção:  Quando a amostra de unidades usada para uma análise estatística é limitada de alguma maneira por processos não aleatórios, existe a possibilidade de viés de seleção."
      ]
    },
    {
      "cell_type": "markdown",
      "metadata": {
        "id": "4wvKOES0GU0q"
      },
      "source": [
        "**Validação de dados e entendimento das variáveis**"
      ]
    },
    {
      "cell_type": "code",
      "metadata": {
        "colab": {
          "base_uri": "https://localhost:8080/"
        },
        "id": "fdXDeemgrx5T",
        "outputId": "fd34a298-58a2-4c31-f1aa-043aa08d3198"
      },
      "source": [
        "dataset1.info()"
      ],
      "execution_count": null,
      "outputs": [
        {
          "output_type": "stream",
          "name": "stdout",
          "text": [
            "<class 'pandas.core.frame.DataFrame'>\n",
            "RangeIndex: 106 entries, 0 to 105\n",
            "Data columns (total 11 columns):\n",
            " #   Column           Non-Null Count  Dtype \n",
            "---  ------           --------------  ----- \n",
            " 0   Id               106 non-null    int64 \n",
            " 1   Name             105 non-null    object\n",
            " 2   Platform         97 non-null     object\n",
            " 3   Year_of_Release  105 non-null    object\n",
            " 4   Genre            105 non-null    object\n",
            " 5   Publisher        105 non-null    object\n",
            " 6   NA_Sales         105 non-null    object\n",
            " 7   EU_Sales         105 non-null    object\n",
            " 8   JP_Sales         101 non-null    object\n",
            " 9   Other_Sales      105 non-null    object\n",
            " 10  Global_Sales     77 non-null     object\n",
            "dtypes: int64(1), object(10)\n",
            "memory usage: 9.2+ KB\n"
          ]
        }
      ]
    },
    {
      "cell_type": "markdown",
      "metadata": {
        "id": "I2Q2oDgzsK6b"
      },
      "source": [
        "**Quantos registros faltantes (dados nulos) por coluna?**"
      ]
    },
    {
      "cell_type": "code",
      "metadata": {
        "colab": {
          "base_uri": "https://localhost:8080/"
        },
        "id": "r2A6E4KDtCa6",
        "outputId": "5941badb-e12f-443f-c710-73135c053009"
      },
      "source": [
        " dataset1.isnull().sum()"
      ],
      "execution_count": null,
      "outputs": [
        {
          "output_type": "execute_result",
          "data": {
            "text/plain": [
              "Id                  0\n",
              "Name                1\n",
              "Platform            9\n",
              "Year_of_Release     1\n",
              "Genre               1\n",
              "Publisher           1\n",
              "NA_Sales            1\n",
              "EU_Sales            1\n",
              "JP_Sales            5\n",
              "Other_Sales         1\n",
              "Global_Sales       29\n",
              "dtype: int64"
            ]
          },
          "metadata": {},
          "execution_count": 28
        }
      ]
    },
    {
      "cell_type": "markdown",
      "metadata": {
        "id": "O4gnMfjCugwE"
      },
      "source": [
        "**Avalie a unicidade dos dados. Há duplicatas de linhas?**"
      ]
    },
    {
      "cell_type": "code",
      "metadata": {
        "colab": {
          "base_uri": "https://localhost:8080/"
        },
        "id": "nM3GdDjHvtbk",
        "outputId": "854aa215-3e74-466c-a4f7-c0145746e3c0"
      },
      "source": [
        "dataset1.duplicated()"
      ],
      "execution_count": null,
      "outputs": [
        {
          "output_type": "execute_result",
          "data": {
            "text/plain": [
              "0      False\n",
              "1      False\n",
              "2      False\n",
              "3      False\n",
              "4      False\n",
              "       ...  \n",
              "101    False\n",
              "102    False\n",
              "103    False\n",
              "104    False\n",
              "105    False\n",
              "Length: 106, dtype: bool"
            ]
          },
          "metadata": {},
          "execution_count": 34
        }
      ]
    },
    {
      "cell_type": "code",
      "metadata": {
        "colab": {
          "base_uri": "https://localhost:8080/",
          "height": 470
        },
        "id": "7t6eM5lbwEyr",
        "outputId": "0aaf9a1c-66ab-4383-e316-97b99312a8f9"
      },
      "source": [
        "dataset1.drop_duplicates()"
      ],
      "execution_count": null,
      "outputs": [
        {
          "output_type": "execute_result",
          "data": {
            "text/html": [
              "<div>\n",
              "<style scoped>\n",
              "    .dataframe tbody tr th:only-of-type {\n",
              "        vertical-align: middle;\n",
              "    }\n",
              "\n",
              "    .dataframe tbody tr th {\n",
              "        vertical-align: top;\n",
              "    }\n",
              "\n",
              "    .dataframe thead th {\n",
              "        text-align: right;\n",
              "    }\n",
              "</style>\n",
              "<table border=\"1\" class=\"dataframe\">\n",
              "  <thead>\n",
              "    <tr style=\"text-align: right;\">\n",
              "      <th></th>\n",
              "      <th>Id</th>\n",
              "      <th>Name</th>\n",
              "      <th>Platform</th>\n",
              "      <th>Year_of_Release</th>\n",
              "      <th>Genre</th>\n",
              "      <th>Publisher</th>\n",
              "      <th>NA_Sales</th>\n",
              "      <th>EU_Sales</th>\n",
              "      <th>JP_Sales</th>\n",
              "      <th>Other_Sales</th>\n",
              "      <th>Global_Sales</th>\n",
              "    </tr>\n",
              "  </thead>\n",
              "  <tbody>\n",
              "    <tr>\n",
              "      <th>0</th>\n",
              "      <td>1</td>\n",
              "      <td>Wii Sports</td>\n",
              "      <td>NaN</td>\n",
              "      <td>2006</td>\n",
              "      <td>Sports</td>\n",
              "      <td>Nintendo</td>\n",
              "      <td>41.36</td>\n",
              "      <td>28.96</td>\n",
              "      <td>3.77</td>\n",
              "      <td>8.45</td>\n",
              "      <td>82.53</td>\n",
              "    </tr>\n",
              "    <tr>\n",
              "      <th>1</th>\n",
              "      <td>2</td>\n",
              "      <td>Super Mario Bros.</td>\n",
              "      <td>NES</td>\n",
              "      <td>1985</td>\n",
              "      <td>Platform</td>\n",
              "      <td>Nintendo</td>\n",
              "      <td>29.08</td>\n",
              "      <td>3.58</td>\n",
              "      <td>6.81</td>\n",
              "      <td>0.77</td>\n",
              "      <td>40.24</td>\n",
              "    </tr>\n",
              "    <tr>\n",
              "      <th>2</th>\n",
              "      <td>3</td>\n",
              "      <td>Mario Kart Wii</td>\n",
              "      <td>NaN</td>\n",
              "      <td>2008</td>\n",
              "      <td>Racing</td>\n",
              "      <td>Nintendo</td>\n",
              "      <td>15.68</td>\n",
              "      <td>12.76</td>\n",
              "      <td>3.79</td>\n",
              "      <td>3.29</td>\n",
              "      <td>35.52</td>\n",
              "    </tr>\n",
              "    <tr>\n",
              "      <th>3</th>\n",
              "      <td>4</td>\n",
              "      <td>Wii Sports Resort</td>\n",
              "      <td>NaN</td>\n",
              "      <td>2009</td>\n",
              "      <td>Sports</td>\n",
              "      <td>Nintendo</td>\n",
              "      <td>15.61</td>\n",
              "      <td>10.93</td>\n",
              "      <td>3.28</td>\n",
              "      <td>2.95</td>\n",
              "      <td>32.77</td>\n",
              "    </tr>\n",
              "    <tr>\n",
              "      <th>4</th>\n",
              "      <td>5</td>\n",
              "      <td>Pokemon Red/Pokemon Blue</td>\n",
              "      <td>GB</td>\n",
              "      <td>1996</td>\n",
              "      <td>Role-Playing</td>\n",
              "      <td>Nintendo</td>\n",
              "      <td>11.27</td>\n",
              "      <td>8.89</td>\n",
              "      <td>10.22</td>\n",
              "      <td>1,0</td>\n",
              "      <td>31.37</td>\n",
              "    </tr>\n",
              "    <tr>\n",
              "      <th>...</th>\n",
              "      <td>...</td>\n",
              "      <td>...</td>\n",
              "      <td>...</td>\n",
              "      <td>...</td>\n",
              "      <td>...</td>\n",
              "      <td>...</td>\n",
              "      <td>...</td>\n",
              "      <td>...</td>\n",
              "      <td>...</td>\n",
              "      <td>...</td>\n",
              "      <td>...</td>\n",
              "    </tr>\n",
              "    <tr>\n",
              "      <th>101</th>\n",
              "      <td>96</td>\n",
              "      <td>Crash Bandicoot 2: Cortex Strikes Back</td>\n",
              "      <td>PS</td>\n",
              "      <td>1997</td>\n",
              "      <td>Platform</td>\n",
              "      <td>Sony Computer Entertainment</td>\n",
              "      <td>3.78</td>\n",
              "      <td>2.17</td>\n",
              "      <td>1.31</td>\n",
              "      <td>0.31</td>\n",
              "      <td>NaN</td>\n",
              "    </tr>\n",
              "    <tr>\n",
              "      <th>102</th>\n",
              "      <td>97</td>\n",
              "      <td>Super Smash Bros. for Wii U and 3DS</td>\n",
              "      <td>3DS</td>\n",
              "      <td>2014</td>\n",
              "      <td>Fighting</td>\n",
              "      <td>Nintendo</td>\n",
              "      <td>3.27</td>\n",
              "      <td>1.37</td>\n",
              "      <td>2.43</td>\n",
              "      <td>0.48</td>\n",
              "      <td>NaN</td>\n",
              "    </tr>\n",
              "    <tr>\n",
              "      <th>103</th>\n",
              "      <td>98</td>\n",
              "      <td>Super Mario Galaxy 2</td>\n",
              "      <td>Wii</td>\n",
              "      <td>2010</td>\n",
              "      <td>Platform</td>\n",
              "      <td>Nintendo</td>\n",
              "      <td>3.56</td>\n",
              "      <td>2.35</td>\n",
              "      <td>0.98</td>\n",
              "      <td>0.62</td>\n",
              "      <td>NaN</td>\n",
              "    </tr>\n",
              "    <tr>\n",
              "      <th>104</th>\n",
              "      <td>99</td>\n",
              "      <td>Super Mario Bros. 2</td>\n",
              "      <td>NES</td>\n",
              "      <td>1988</td>\n",
              "      <td>Platform</td>\n",
              "      <td>Nintendo</td>\n",
              "      <td>5.39</td>\n",
              "      <td>1.18</td>\n",
              "      <td>0.7</td>\n",
              "      <td>0.19</td>\n",
              "      <td>7.46</td>\n",
              "    </tr>\n",
              "    <tr>\n",
              "      <th>105</th>\n",
              "      <td>100</td>\n",
              "      <td>Call of Duty: Black Ops 3</td>\n",
              "      <td>XOne</td>\n",
              "      <td>2015</td>\n",
              "      <td>Shooter</td>\n",
              "      <td>Activision</td>\n",
              "      <td>4.59</td>\n",
              "      <td>2.11</td>\n",
              "      <td>0.01</td>\n",
              "      <td>0.68</td>\n",
              "      <td>7.39</td>\n",
              "    </tr>\n",
              "  </tbody>\n",
              "</table>\n",
              "<p>101 rows × 11 columns</p>\n",
              "</div>"
            ],
            "text/plain": [
              "      Id                                    Name  ... Other_Sales Global_Sales\n",
              "0      1                              Wii Sports  ...        8.45        82.53\n",
              "1      2                       Super Mario Bros.  ...        0.77        40.24\n",
              "2      3                          Mario Kart Wii  ...        3.29        35.52\n",
              "3      4                       Wii Sports Resort  ...        2.95        32.77\n",
              "4      5                Pokemon Red/Pokemon Blue  ...         1,0        31.37\n",
              "..   ...                                     ...  ...         ...          ...\n",
              "101   96  Crash Bandicoot 2: Cortex Strikes Back  ...        0.31          NaN\n",
              "102   97     Super Smash Bros. for Wii U and 3DS  ...        0.48          NaN\n",
              "103   98                    Super Mario Galaxy 2  ...        0.62          NaN\n",
              "104   99                     Super Mario Bros. 2  ...        0.19         7.46\n",
              "105  100               Call of Duty: Black Ops 3  ...        0.68         7.39\n",
              "\n",
              "[101 rows x 11 columns]"
            ]
          },
          "metadata": {},
          "execution_count": 35
        }
      ]
    },
    {
      "cell_type": "markdown",
      "metadata": {
        "id": "u_RSNwIGwcrM"
      },
      "source": [
        "**Quantitativas: Valores mínimo e máximo. Média e desvio padrão. Mediana, P25 e P75**"
      ]
    },
    {
      "cell_type": "code",
      "metadata": {
        "colab": {
          "base_uri": "https://localhost:8080/",
          "height": 297
        },
        "id": "gkM5Kt5GpXRj",
        "outputId": "0965c717-77b7-4362-ec61-4add86df1301"
      },
      "source": [
        "dataset1.describe()\n",
        "#mean = média\n",
        "#std = desvio padrão"
      ],
      "execution_count": null,
      "outputs": [
        {
          "output_type": "execute_result",
          "data": {
            "text/html": [
              "<div>\n",
              "<style scoped>\n",
              "    .dataframe tbody tr th:only-of-type {\n",
              "        vertical-align: middle;\n",
              "    }\n",
              "\n",
              "    .dataframe tbody tr th {\n",
              "        vertical-align: top;\n",
              "    }\n",
              "\n",
              "    .dataframe thead th {\n",
              "        text-align: right;\n",
              "    }\n",
              "</style>\n",
              "<table border=\"1\" class=\"dataframe\">\n",
              "  <thead>\n",
              "    <tr style=\"text-align: right;\">\n",
              "      <th></th>\n",
              "      <th>Id</th>\n",
              "    </tr>\n",
              "  </thead>\n",
              "  <tbody>\n",
              "    <tr>\n",
              "      <th>count</th>\n",
              "      <td>106.000000</td>\n",
              "    </tr>\n",
              "    <tr>\n",
              "      <th>mean</th>\n",
              "      <td>51.443396</td>\n",
              "    </tr>\n",
              "    <tr>\n",
              "      <th>std</th>\n",
              "      <td>28.997892</td>\n",
              "    </tr>\n",
              "    <tr>\n",
              "      <th>min</th>\n",
              "      <td>1.000000</td>\n",
              "    </tr>\n",
              "    <tr>\n",
              "      <th>25%</th>\n",
              "      <td>26.250000</td>\n",
              "    </tr>\n",
              "    <tr>\n",
              "      <th>50%</th>\n",
              "      <td>52.500000</td>\n",
              "    </tr>\n",
              "    <tr>\n",
              "      <th>75%</th>\n",
              "      <td>77.750000</td>\n",
              "    </tr>\n",
              "    <tr>\n",
              "      <th>max</th>\n",
              "      <td>100.000000</td>\n",
              "    </tr>\n",
              "  </tbody>\n",
              "</table>\n",
              "</div>"
            ],
            "text/plain": [
              "               Id\n",
              "count  106.000000\n",
              "mean    51.443396\n",
              "std     28.997892\n",
              "min      1.000000\n",
              "25%     26.250000\n",
              "50%     52.500000\n",
              "75%     77.750000\n",
              "max    100.000000"
            ]
          },
          "metadata": {},
          "execution_count": 16
        }
      ]
    },
    {
      "cell_type": "code",
      "metadata": {
        "colab": {
          "base_uri": "https://localhost:8080/"
        },
        "id": "F1_aHfIJwhoM",
        "outputId": "ec96b17d-fc83-4f13-d19a-60a35a619758"
      },
      "source": [
        "dataset1.median()"
      ],
      "execution_count": null,
      "outputs": [
        {
          "output_type": "execute_result",
          "data": {
            "text/plain": [
              "Id    52.5\n",
              "dtype: float64"
            ]
          },
          "metadata": {},
          "execution_count": 39
        }
      ]
    },
    {
      "cell_type": "markdown",
      "metadata": {
        "id": "JJBdst_tw7ON"
      },
      "source": [
        "**Crie gráficos que te auxiliam a visualizar os itens anteriores.**"
      ]
    },
    {
      "cell_type": "code",
      "metadata": {
        "id": "0Xv5y5O2SFez"
      },
      "source": [
        "#tentativa 1 de gráficos, sem a limpeza nos dados.\n",
        "#mais abaixo há os gráficos refeitos após a limpeza."
      ],
      "execution_count": null,
      "outputs": []
    },
    {
      "cell_type": "code",
      "metadata": {
        "colab": {
          "base_uri": "https://localhost:8080/",
          "height": 346
        },
        "id": "1N1hWf3mnlgM",
        "outputId": "b8859271-f979-4cf6-b670-e961fed7983e"
      },
      "source": [
        "sns.countplot(x='Platform', data=dataset1)\n",
        "plt.xticks(rotation = 45, ha = 'right')"
      ],
      "execution_count": null,
      "outputs": [
        {
          "output_type": "execute_result",
          "data": {
            "text/plain": [
              "(array([ 0,  1,  2,  3,  4,  5,  6,  7,  8,  9, 10, 11, 12, 13, 14, 15, 16,\n",
              "        17, 18]), <a list of 19 Text major ticklabel objects>)"
            ]
          },
          "metadata": {},
          "execution_count": 104
        },
        {
          "output_type": "display_data",
          "data": {
            "image/png": "[encoded data removed]",
            "text/plain": [
              "<Figure size 432x288 with 1 Axes>"
            ]
          },
          "metadata": {
            "needs_background": "light"
          }
        }
      ]
    },
    {
      "cell_type": "code",
      "metadata": {
        "id": "-myGkeN4iHCg",
        "colab": {
          "base_uri": "https://localhost:8080/",
          "height": 372
        },
        "outputId": "0391d831-f3e3-4b0f-d2a7-747e6079d8f6"
      },
      "source": [
        "sns.countplot(x='Year_of_Release', data=dataset1)\n",
        "plt.xticks(rotation = 90, ha = 'right')\n"
      ],
      "execution_count": null,
      "outputs": [
        {
          "output_type": "execute_result",
          "data": {
            "text/plain": [
              "(array([ 0,  1,  2,  3,  4,  5,  6,  7,  8,  9, 10, 11, 12, 13, 14, 15, 16,\n",
              "        17, 18, 19, 20, 21, 22, 23, 24, 25, 26, 27, 28, 29, 30, 31, 32, 33]),\n",
              " <a list of 34 Text major ticklabel objects>)"
            ]
          },
          "metadata": {},
          "execution_count": 94
        },
        {
          "output_type": "display_data",
          "data": {
            "image/png": "[encoded data removed]",
            "text/plain": [
              "<Figure size 432x288 with 1 Axes>"
            ]
          },
          "metadata": {
            "needs_background": "light"
          }
        }
      ]
    },
    {
      "cell_type": "code",
      "metadata": {
        "colab": {
          "base_uri": "https://localhost:8080/",
          "height": 418
        },
        "id": "AmoNa1zCjniR",
        "outputId": "833e8a9f-e45e-4204-b42e-5bfa0d372185"
      },
      "source": [
        "sns.countplot(x='Publisher', data=dataset1)\n",
        "plt.xticks(rotation = 45, ha = 'right')"
      ],
      "execution_count": null,
      "outputs": [
        {
          "output_type": "execute_result",
          "data": {
            "text/plain": [
              "(array([ 0,  1,  2,  3,  4,  5,  6,  7,  8,  9, 10, 11, 12, 13]),\n",
              " <a list of 14 Text major ticklabel objects>)"
            ]
          },
          "metadata": {},
          "execution_count": 75
        },
        {
          "output_type": "display_data",
          "data": {
            "image/png": "[encoded data removed]",
            "text/plain": [
              "<Figure size 432x288 with 1 Axes>"
            ]
          },
          "metadata": {
            "needs_background": "light"
          }
        }
      ]
    },
    {
      "cell_type": "code",
      "metadata": {
        "colab": {
          "base_uri": "https://localhost:8080/",
          "height": 354
        },
        "id": "D5VxTNvije1o",
        "outputId": "2bb269f9-78ac-42a6-93fb-1b75f40296e5"
      },
      "source": [
        "sns.countplot(x='Genre', data=dataset1)\n",
        "plt.xticks(rotation = 45, ha = 'right')"
      ],
      "execution_count": null,
      "outputs": [
        {
          "output_type": "execute_result",
          "data": {
            "text/plain": [
              "(array([ 0,  1,  2,  3,  4,  5,  6,  7,  8,  9, 10]),\n",
              " <a list of 11 Text major ticklabel objects>)"
            ]
          },
          "metadata": {},
          "execution_count": 80
        },
        {
          "output_type": "display_data",
          "data": {
            "image/png": "[encoded data removed]",
            "text/plain": [
              "<Figure size 432x288 with 1 Axes>"
            ]
          },
          "metadata": {
            "needs_background": "light"
          }
        }
      ]
    },
    {
      "cell_type": "markdown",
      "metadata": {
        "id": "32EUWijiG1gc"
      },
      "source": [
        "**Limpeza dos Dados**\n",
        "\n",
        "Caso aplicável, dê uma tratativa para os seguintes itens e explique o motivo da solução aplicada.\n",
        "\n",
        "Validade dos tipos dos dados;\n",
        "\n",
        "Valores discrepantes;\n",
        "\n",
        "Dados inconsistentes"
      ]
    },
    {
      "cell_type": "code",
      "metadata": {
        "colab": {
          "base_uri": "https://localhost:8080/",
          "height": 175
        },
        "id": "XRXX8_kmPn75",
        "outputId": "589823a6-cd34-4562-db84-c7afa39f6fbf"
      },
      "source": [
        "new_dataset1 = dataset1.copy()\n",
        "new_dataset1[['NA_Sales', 'EU_Sales', 'JP_Sales', 'Other_Sales', 'Global_Sales']].describe()"
      ],
      "execution_count": null,
      "outputs": [
        {
          "output_type": "execute_result",
          "data": {
            "text/html": [
              "<div>\n",
              "<style scoped>\n",
              "    .dataframe tbody tr th:only-of-type {\n",
              "        vertical-align: middle;\n",
              "    }\n",
              "\n",
              "    .dataframe tbody tr th {\n",
              "        vertical-align: top;\n",
              "    }\n",
              "\n",
              "    .dataframe thead th {\n",
              "        text-align: right;\n",
              "    }\n",
              "</style>\n",
              "<table border=\"1\" class=\"dataframe\">\n",
              "  <thead>\n",
              "    <tr style=\"text-align: right;\">\n",
              "      <th></th>\n",
              "      <th>NA_Sales</th>\n",
              "      <th>EU_Sales</th>\n",
              "      <th>JP_Sales</th>\n",
              "      <th>Other_Sales</th>\n",
              "      <th>Global_Sales</th>\n",
              "    </tr>\n",
              "  </thead>\n",
              "  <tbody>\n",
              "    <tr>\n",
              "      <th>count</th>\n",
              "      <td>105</td>\n",
              "      <td>105</td>\n",
              "      <td>101</td>\n",
              "      <td>105</td>\n",
              "      <td>77</td>\n",
              "    </tr>\n",
              "    <tr>\n",
              "      <th>unique</th>\n",
              "      <td>93</td>\n",
              "      <td>89</td>\n",
              "      <td>80</td>\n",
              "      <td>84</td>\n",
              "      <td>74</td>\n",
              "    </tr>\n",
              "    <tr>\n",
              "      <th>top</th>\n",
              "      <td>1.12</td>\n",
              "      <td>6.12</td>\n",
              "      <td>0.13</td>\n",
              "      <td>1.28</td>\n",
              "      <td>10.25</td>\n",
              "    </tr>\n",
              "    <tr>\n",
              "      <th>freq</th>\n",
              "      <td>3</td>\n",
              "      <td>3</td>\n",
              "      <td>5</td>\n",
              "      <td>5</td>\n",
              "      <td>2</td>\n",
              "    </tr>\n",
              "  </tbody>\n",
              "</table>\n",
              "</div>"
            ],
            "text/plain": [
              "       NA_Sales EU_Sales JP_Sales Other_Sales Global_Sales\n",
              "count       105      105      101         105           77\n",
              "unique       93       89       80          84           74\n",
              "top        1.12     6.12     0.13        1.28        10.25\n",
              "freq          3        3        5           5            2"
            ]
          },
          "metadata": {},
          "execution_count": 6
        }
      ]
    },
    {
      "cell_type": "code",
      "metadata": {
        "colab": {
          "base_uri": "https://localhost:8080/",
          "height": 300
        },
        "id": "XznRFYdXP4b6",
        "outputId": "d3f84ed3-bd44-4ac7-f43c-f1d71915f503"
      },
      "source": [
        "new_dataset1[['NA_Sales', 'EU_Sales', 'JP_Sales', 'Other_Sales', 'Global_Sales']] = dataset1[['NA_Sales', 'EU_Sales', 'JP_Sales', 'Other_Sales', 'Global_Sales']].apply(lambda x: x.str.replace(',','.')).apply(pd.to_numeric)\n",
        "new_dataset1.describe()"
      ],
      "execution_count": null,
      "outputs": [
        {
          "output_type": "execute_result",
          "data": {
            "text/html": [
              "<div>\n",
              "<style scoped>\n",
              "    .dataframe tbody tr th:only-of-type {\n",
              "        vertical-align: middle;\n",
              "    }\n",
              "\n",
              "    .dataframe tbody tr th {\n",
              "        vertical-align: top;\n",
              "    }\n",
              "\n",
              "    .dataframe thead th {\n",
              "        text-align: right;\n",
              "    }\n",
              "</style>\n",
              "<table border=\"1\" class=\"dataframe\">\n",
              "  <thead>\n",
              "    <tr style=\"text-align: right;\">\n",
              "      <th></th>\n",
              "      <th>Id</th>\n",
              "      <th>NA_Sales</th>\n",
              "      <th>EU_Sales</th>\n",
              "      <th>JP_Sales</th>\n",
              "      <th>Other_Sales</th>\n",
              "      <th>Global_Sales</th>\n",
              "    </tr>\n",
              "  </thead>\n",
              "  <tbody>\n",
              "    <tr>\n",
              "      <th>count</th>\n",
              "      <td>106.000000</td>\n",
              "      <td>105.000000</td>\n",
              "      <td>105.00000</td>\n",
              "      <td>101.000000</td>\n",
              "      <td>105.000000</td>\n",
              "      <td>77.000000</td>\n",
              "    </tr>\n",
              "    <tr>\n",
              "      <th>mean</th>\n",
              "      <td>51.443396</td>\n",
              "      <td>6.831143</td>\n",
              "      <td>4.31200</td>\n",
              "      <td>2.038911</td>\n",
              "      <td>1.327524</td>\n",
              "      <td>15.944416</td>\n",
              "    </tr>\n",
              "    <tr>\n",
              "      <th>std</th>\n",
              "      <td>28.997892</td>\n",
              "      <td>5.828768</td>\n",
              "      <td>3.46308</td>\n",
              "      <td>2.039578</td>\n",
              "      <td>1.538784</td>\n",
              "      <td>10.743223</td>\n",
              "    </tr>\n",
              "    <tr>\n",
              "      <th>min</th>\n",
              "      <td>1.000000</td>\n",
              "      <td>0.660000</td>\n",
              "      <td>0.01000</td>\n",
              "      <td>0.010000</td>\n",
              "      <td>0.080000</td>\n",
              "      <td>7.390000</td>\n",
              "    </tr>\n",
              "    <tr>\n",
              "      <th>25%</th>\n",
              "      <td>26.250000</td>\n",
              "      <td>3.740000</td>\n",
              "      <td>2.36000</td>\n",
              "      <td>0.240000</td>\n",
              "      <td>0.580000</td>\n",
              "      <td>9.870000</td>\n",
              "    </tr>\n",
              "    <tr>\n",
              "      <th>50%</th>\n",
              "      <td>52.500000</td>\n",
              "      <td>5.700000</td>\n",
              "      <td>3.48000</td>\n",
              "      <td>1.580000</td>\n",
              "      <td>0.910000</td>\n",
              "      <td>12.660000</td>\n",
              "    </tr>\n",
              "    <tr>\n",
              "      <th>75%</th>\n",
              "      <td>77.750000</td>\n",
              "      <td>7.970000</td>\n",
              "      <td>5.35000</td>\n",
              "      <td>3.280000</td>\n",
              "      <td>1.570000</td>\n",
              "      <td>20.150000</td>\n",
              "    </tr>\n",
              "    <tr>\n",
              "      <th>max</th>\n",
              "      <td>100.000000</td>\n",
              "      <td>41.360000</td>\n",
              "      <td>28.96000</td>\n",
              "      <td>10.220000</td>\n",
              "      <td>10.570000</td>\n",
              "      <td>82.530000</td>\n",
              "    </tr>\n",
              "  </tbody>\n",
              "</table>\n",
              "</div>"
            ],
            "text/plain": [
              "               Id    NA_Sales   EU_Sales    JP_Sales  Other_Sales  Global_Sales\n",
              "count  106.000000  105.000000  105.00000  101.000000   105.000000     77.000000\n",
              "mean    51.443396    6.831143    4.31200    2.038911     1.327524     15.944416\n",
              "std     28.997892    5.828768    3.46308    2.039578     1.538784     10.743223\n",
              "min      1.000000    0.660000    0.01000    0.010000     0.080000      7.390000\n",
              "25%     26.250000    3.740000    2.36000    0.240000     0.580000      9.870000\n",
              "50%     52.500000    5.700000    3.48000    1.580000     0.910000     12.660000\n",
              "75%     77.750000    7.970000    5.35000    3.280000     1.570000     20.150000\n",
              "max    100.000000   41.360000   28.96000   10.220000    10.570000     82.530000"
            ]
          },
          "metadata": {},
          "execution_count": 7
        }
      ]
    },
    {
      "cell_type": "code",
      "metadata": {
        "colab": {
          "base_uri": "https://localhost:8080/",
          "height": 175
        },
        "id": "YLuifPr9QCMa",
        "outputId": "9efcd94c-2a98-40e6-ae36-e28267a9dc28"
      },
      "source": [
        "new_dataset1[['Year_of_Release']].describe()"
      ],
      "execution_count": null,
      "outputs": [
        {
          "output_type": "execute_result",
          "data": {
            "text/html": [
              "<div>\n",
              "<style scoped>\n",
              "    .dataframe tbody tr th:only-of-type {\n",
              "        vertical-align: middle;\n",
              "    }\n",
              "\n",
              "    .dataframe tbody tr th {\n",
              "        vertical-align: top;\n",
              "    }\n",
              "\n",
              "    .dataframe thead th {\n",
              "        text-align: right;\n",
              "    }\n",
              "</style>\n",
              "<table border=\"1\" class=\"dataframe\">\n",
              "  <thead>\n",
              "    <tr style=\"text-align: right;\">\n",
              "      <th></th>\n",
              "      <th>Year_of_Release</th>\n",
              "    </tr>\n",
              "  </thead>\n",
              "  <tbody>\n",
              "    <tr>\n",
              "      <th>count</th>\n",
              "      <td>105</td>\n",
              "    </tr>\n",
              "    <tr>\n",
              "      <th>unique</th>\n",
              "      <td>34</td>\n",
              "    </tr>\n",
              "    <tr>\n",
              "      <th>top</th>\n",
              "      <td>2010</td>\n",
              "    </tr>\n",
              "    <tr>\n",
              "      <th>freq</th>\n",
              "      <td>8</td>\n",
              "    </tr>\n",
              "  </tbody>\n",
              "</table>\n",
              "</div>"
            ],
            "text/plain": [
              "       Year_of_Release\n",
              "count              105\n",
              "unique              34\n",
              "top               2010\n",
              "freq                 8"
            ]
          },
          "metadata": {},
          "execution_count": 8
        }
      ]
    },
    {
      "cell_type": "code",
      "metadata": {
        "colab": {
          "base_uri": "https://localhost:8080/"
        },
        "id": "JQ3uqS7JQJF0",
        "outputId": "37728731-271a-4e44-e74f-ea5b5514c08b"
      },
      "source": [
        "new_dataset1['Year_of_Release'].str.len().sort_values(ascending=False)"
      ],
      "execution_count": null,
      "outputs": [
        {
          "output_type": "execute_result",
          "data": {
            "text/plain": [
              "24    9.0\n",
              "49    5.0\n",
              "33    5.0\n",
              "37    4.0\n",
              "27    4.0\n",
              "     ... \n",
              "73    4.0\n",
              "74    4.0\n",
              "75    4.0\n",
              "0     4.0\n",
              "87    NaN\n",
              "Name: Year_of_Release, Length: 106, dtype: float64"
            ]
          },
          "metadata": {},
          "execution_count": 9
        }
      ]
    },
    {
      "cell_type": "code",
      "metadata": {
        "colab": {
          "base_uri": "https://localhost:8080/",
          "height": 143
        },
        "id": "pf8PnI7mQR97",
        "outputId": "65d56453-a10d-439e-e489-a78544f5c568"
      },
      "source": [
        "new_dataset1.loc[[24,33,49]]"
      ],
      "execution_count": null,
      "outputs": [
        {
          "output_type": "execute_result",
          "data": {
            "text/html": [
              "<div>\n",
              "<style scoped>\n",
              "    .dataframe tbody tr th:only-of-type {\n",
              "        vertical-align: middle;\n",
              "    }\n",
              "\n",
              "    .dataframe tbody tr th {\n",
              "        vertical-align: top;\n",
              "    }\n",
              "\n",
              "    .dataframe thead th {\n",
              "        text-align: right;\n",
              "    }\n",
              "</style>\n",
              "<table border=\"1\" class=\"dataframe\">\n",
              "  <thead>\n",
              "    <tr style=\"text-align: right;\">\n",
              "      <th></th>\n",
              "      <th>Id</th>\n",
              "      <th>Name</th>\n",
              "      <th>Platform</th>\n",
              "      <th>Year_of_Release</th>\n",
              "      <th>Genre</th>\n",
              "      <th>Publisher</th>\n",
              "      <th>NA_Sales</th>\n",
              "      <th>EU_Sales</th>\n",
              "      <th>JP_Sales</th>\n",
              "      <th>Other_Sales</th>\n",
              "      <th>Global_Sales</th>\n",
              "    </tr>\n",
              "  </thead>\n",
              "  <tbody>\n",
              "    <tr>\n",
              "      <th>24</th>\n",
              "      <td>24</td>\n",
              "      <td>Grand Theft Auto V</td>\n",
              "      <td>X360</td>\n",
              "      <td>9/17/2013</td>\n",
              "      <td>Action</td>\n",
              "      <td>Take-Two Interactive</td>\n",
              "      <td>9.66</td>\n",
              "      <td>5.14</td>\n",
              "      <td>0.06</td>\n",
              "      <td>1.41</td>\n",
              "      <td>16.27</td>\n",
              "    </tr>\n",
              "    <tr>\n",
              "      <th>33</th>\n",
              "      <td>33</td>\n",
              "      <td>Call of Duty: Black Ops</td>\n",
              "      <td>X360</td>\n",
              "      <td>20100</td>\n",
              "      <td>Shooter</td>\n",
              "      <td>Activision</td>\n",
              "      <td>9.70</td>\n",
              "      <td>3.68</td>\n",
              "      <td>0.11</td>\n",
              "      <td>1.13</td>\n",
              "      <td>14.61</td>\n",
              "    </tr>\n",
              "    <tr>\n",
              "      <th>49</th>\n",
              "      <td>49</td>\n",
              "      <td>Gran Turismo 4</td>\n",
              "      <td>PS2</td>\n",
              "      <td>12004</td>\n",
              "      <td>Racing</td>\n",
              "      <td>Sony Computer Entertainment</td>\n",
              "      <td>3.01</td>\n",
              "      <td>0.01</td>\n",
              "      <td>1.10</td>\n",
              "      <td>7.53</td>\n",
              "      <td>11.66</td>\n",
              "    </tr>\n",
              "  </tbody>\n",
              "</table>\n",
              "</div>"
            ],
            "text/plain": [
              "    Id                     Name Platform  ... JP_Sales Other_Sales Global_Sales\n",
              "24  24       Grand Theft Auto V     X360  ...     0.06        1.41        16.27\n",
              "33  33  Call of Duty: Black Ops     X360  ...     0.11        1.13        14.61\n",
              "49  49           Gran Turismo 4      PS2  ...     1.10        7.53        11.66\n",
              "\n",
              "[3 rows x 11 columns]"
            ]
          },
          "metadata": {},
          "execution_count": 10
        }
      ]
    },
    {
      "cell_type": "code",
      "metadata": {
        "id": "CbT_H-ItQWKW"
      },
      "source": [
        "new_dataset1.loc[24, 'Year_of_Release'] = '2013'\n",
        "new_dataset1.loc[33, 'Year_of_Release'] = '2010'\n",
        "new_dataset1.loc[49, 'Year_of_Release'] = '2004'"
      ],
      "execution_count": null,
      "outputs": []
    },
    {
      "cell_type": "code",
      "metadata": {
        "colab": {
          "base_uri": "https://localhost:8080/",
          "height": 143
        },
        "id": "AVJaV1SxQZfc",
        "outputId": "196bc66d-8a63-437e-851b-d95c1901854f"
      },
      "source": [
        "new_dataset1.loc[[24,33,49]]"
      ],
      "execution_count": null,
      "outputs": [
        {
          "output_type": "execute_result",
          "data": {
            "text/html": [
              "<div>\n",
              "<style scoped>\n",
              "    .dataframe tbody tr th:only-of-type {\n",
              "        vertical-align: middle;\n",
              "    }\n",
              "\n",
              "    .dataframe tbody tr th {\n",
              "        vertical-align: top;\n",
              "    }\n",
              "\n",
              "    .dataframe thead th {\n",
              "        text-align: right;\n",
              "    }\n",
              "</style>\n",
              "<table border=\"1\" class=\"dataframe\">\n",
              "  <thead>\n",
              "    <tr style=\"text-align: right;\">\n",
              "      <th></th>\n",
              "      <th>Id</th>\n",
              "      <th>Name</th>\n",
              "      <th>Platform</th>\n",
              "      <th>Year_of_Release</th>\n",
              "      <th>Genre</th>\n",
              "      <th>Publisher</th>\n",
              "      <th>NA_Sales</th>\n",
              "      <th>EU_Sales</th>\n",
              "      <th>JP_Sales</th>\n",
              "      <th>Other_Sales</th>\n",
              "      <th>Global_Sales</th>\n",
              "    </tr>\n",
              "  </thead>\n",
              "  <tbody>\n",
              "    <tr>\n",
              "      <th>24</th>\n",
              "      <td>24</td>\n",
              "      <td>Grand Theft Auto V</td>\n",
              "      <td>X360</td>\n",
              "      <td>2013</td>\n",
              "      <td>Action</td>\n",
              "      <td>Take-Two Interactive</td>\n",
              "      <td>9.66</td>\n",
              "      <td>5.14</td>\n",
              "      <td>0.06</td>\n",
              "      <td>1.41</td>\n",
              "      <td>16.27</td>\n",
              "    </tr>\n",
              "    <tr>\n",
              "      <th>33</th>\n",
              "      <td>33</td>\n",
              "      <td>Call of Duty: Black Ops</td>\n",
              "      <td>X360</td>\n",
              "      <td>2010</td>\n",
              "      <td>Shooter</td>\n",
              "      <td>Activision</td>\n",
              "      <td>9.70</td>\n",
              "      <td>3.68</td>\n",
              "      <td>0.11</td>\n",
              "      <td>1.13</td>\n",
              "      <td>14.61</td>\n",
              "    </tr>\n",
              "    <tr>\n",
              "      <th>49</th>\n",
              "      <td>49</td>\n",
              "      <td>Gran Turismo 4</td>\n",
              "      <td>PS2</td>\n",
              "      <td>2004</td>\n",
              "      <td>Racing</td>\n",
              "      <td>Sony Computer Entertainment</td>\n",
              "      <td>3.01</td>\n",
              "      <td>0.01</td>\n",
              "      <td>1.10</td>\n",
              "      <td>7.53</td>\n",
              "      <td>11.66</td>\n",
              "    </tr>\n",
              "  </tbody>\n",
              "</table>\n",
              "</div>"
            ],
            "text/plain": [
              "    Id                     Name Platform  ... JP_Sales Other_Sales Global_Sales\n",
              "24  24       Grand Theft Auto V     X360  ...     0.06        1.41        16.27\n",
              "33  33  Call of Duty: Black Ops     X360  ...     0.11        1.13        14.61\n",
              "49  49           Gran Turismo 4      PS2  ...     1.10        7.53        11.66\n",
              "\n",
              "[3 rows x 11 columns]"
            ]
          },
          "metadata": {},
          "execution_count": 12
        }
      ]
    },
    {
      "cell_type": "code",
      "metadata": {
        "colab": {
          "base_uri": "https://localhost:8080/",
          "height": 300
        },
        "id": "KX3rxFilQn_c",
        "outputId": "aef82381-b8ae-4349-88cf-be5a3f899229"
      },
      "source": [
        "new_dataset1[['Year_of_Release']] = new_dataset1[['Year_of_Release']].apply(pd.to_numeric)\n",
        "new_dataset1[['Year_of_Release']].describe()"
      ],
      "execution_count": null,
      "outputs": [
        {
          "output_type": "execute_result",
          "data": {
            "text/html": [
              "<div>\n",
              "<style scoped>\n",
              "    .dataframe tbody tr th:only-of-type {\n",
              "        vertical-align: middle;\n",
              "    }\n",
              "\n",
              "    .dataframe tbody tr th {\n",
              "        vertical-align: top;\n",
              "    }\n",
              "\n",
              "    .dataframe thead th {\n",
              "        text-align: right;\n",
              "    }\n",
              "</style>\n",
              "<table border=\"1\" class=\"dataframe\">\n",
              "  <thead>\n",
              "    <tr style=\"text-align: right;\">\n",
              "      <th></th>\n",
              "      <th>Year_of_Release</th>\n",
              "    </tr>\n",
              "  </thead>\n",
              "  <tbody>\n",
              "    <tr>\n",
              "      <th>count</th>\n",
              "      <td>105.000000</td>\n",
              "    </tr>\n",
              "    <tr>\n",
              "      <th>mean</th>\n",
              "      <td>2012.695238</td>\n",
              "    </tr>\n",
              "    <tr>\n",
              "      <th>std</th>\n",
              "      <td>100.383507</td>\n",
              "    </tr>\n",
              "    <tr>\n",
              "      <th>min</th>\n",
              "      <td>1804.000000</td>\n",
              "    </tr>\n",
              "    <tr>\n",
              "      <th>25%</th>\n",
              "      <td>2001.000000</td>\n",
              "    </tr>\n",
              "    <tr>\n",
              "      <th>50%</th>\n",
              "      <td>2008.000000</td>\n",
              "    </tr>\n",
              "    <tr>\n",
              "      <th>75%</th>\n",
              "      <td>2012.000000</td>\n",
              "    </tr>\n",
              "    <tr>\n",
              "      <th>max</th>\n",
              "      <td>3007.000000</td>\n",
              "    </tr>\n",
              "  </tbody>\n",
              "</table>\n",
              "</div>"
            ],
            "text/plain": [
              "       Year_of_Release\n",
              "count       105.000000\n",
              "mean       2012.695238\n",
              "std         100.383507\n",
              "min        1804.000000\n",
              "25%        2001.000000\n",
              "50%        2008.000000\n",
              "75%        2012.000000\n",
              "max        3007.000000"
            ]
          },
          "metadata": {},
          "execution_count": 14
        }
      ]
    },
    {
      "cell_type": "code",
      "metadata": {
        "colab": {
          "base_uri": "https://localhost:8080/",
          "height": 206
        },
        "id": "PHFqnYsHQvON",
        "outputId": "3a1cc6dc-0e50-48ce-d662-3345faacd564"
      },
      "source": [
        "new_dataset1.nlargest(5, 'Year_of_Release')"
      ],
      "execution_count": null,
      "outputs": [
        {
          "output_type": "execute_result",
          "data": {
            "text/html": [
              "<div>\n",
              "<style scoped>\n",
              "    .dataframe tbody tr th:only-of-type {\n",
              "        vertical-align: middle;\n",
              "    }\n",
              "\n",
              "    .dataframe tbody tr th {\n",
              "        vertical-align: top;\n",
              "    }\n",
              "\n",
              "    .dataframe thead th {\n",
              "        text-align: right;\n",
              "    }\n",
              "</style>\n",
              "<table border=\"1\" class=\"dataframe\">\n",
              "  <thead>\n",
              "    <tr style=\"text-align: right;\">\n",
              "      <th></th>\n",
              "      <th>Id</th>\n",
              "      <th>Name</th>\n",
              "      <th>Platform</th>\n",
              "      <th>Year_of_Release</th>\n",
              "      <th>Genre</th>\n",
              "      <th>Publisher</th>\n",
              "      <th>NA_Sales</th>\n",
              "      <th>EU_Sales</th>\n",
              "      <th>JP_Sales</th>\n",
              "      <th>Other_Sales</th>\n",
              "      <th>Global_Sales</th>\n",
              "    </tr>\n",
              "  </thead>\n",
              "  <tbody>\n",
              "    <tr>\n",
              "      <th>72</th>\n",
              "      <td>71</td>\n",
              "      <td>Call of Duty 4: Modern Warfare</td>\n",
              "      <td>X360</td>\n",
              "      <td>3007.0</td>\n",
              "      <td>Shooter</td>\n",
              "      <td>Activision</td>\n",
              "      <td>5.93</td>\n",
              "      <td>2.36</td>\n",
              "      <td>0.13</td>\n",
              "      <td>0.90</td>\n",
              "      <td>9.31</td>\n",
              "    </tr>\n",
              "    <tr>\n",
              "      <th>100</th>\n",
              "      <td>95</td>\n",
              "      <td>FIFA 17</td>\n",
              "      <td>PS4</td>\n",
              "      <td>2016.0</td>\n",
              "      <td>Sports</td>\n",
              "      <td>Electronic Arts</td>\n",
              "      <td>0.66</td>\n",
              "      <td>5.75</td>\n",
              "      <td>0.08</td>\n",
              "      <td>1.11</td>\n",
              "      <td>7.59</td>\n",
              "    </tr>\n",
              "    <tr>\n",
              "      <th>32</th>\n",
              "      <td>32</td>\n",
              "      <td>Call of Duty: Black Ops 3</td>\n",
              "      <td>PS4</td>\n",
              "      <td>2015.0</td>\n",
              "      <td>Shooter</td>\n",
              "      <td>Activision</td>\n",
              "      <td>6.03</td>\n",
              "      <td>5.86</td>\n",
              "      <td>0.36</td>\n",
              "      <td>2.38</td>\n",
              "      <td>14.63</td>\n",
              "    </tr>\n",
              "    <tr>\n",
              "      <th>79</th>\n",
              "      <td>78</td>\n",
              "      <td>FIFA 16</td>\n",
              "      <td>PS4</td>\n",
              "      <td>2015.0</td>\n",
              "      <td>Sports</td>\n",
              "      <td>Electronic Arts</td>\n",
              "      <td>1.12</td>\n",
              "      <td>6.12</td>\n",
              "      <td>0.06</td>\n",
              "      <td>1.28</td>\n",
              "      <td>NaN</td>\n",
              "    </tr>\n",
              "    <tr>\n",
              "      <th>80</th>\n",
              "      <td>78</td>\n",
              "      <td>FIFA 16</td>\n",
              "      <td>PS4</td>\n",
              "      <td>2015.0</td>\n",
              "      <td>Sports</td>\n",
              "      <td>Electronic Arts</td>\n",
              "      <td>1.12</td>\n",
              "      <td>6.12</td>\n",
              "      <td>0.06</td>\n",
              "      <td>1.28</td>\n",
              "      <td>NaN</td>\n",
              "    </tr>\n",
              "  </tbody>\n",
              "</table>\n",
              "</div>"
            ],
            "text/plain": [
              "     Id                            Name  ... Other_Sales  Global_Sales\n",
              "72   71  Call of Duty 4: Modern Warfare  ...        0.90          9.31\n",
              "100  95                         FIFA 17  ...        1.11          7.59\n",
              "32   32       Call of Duty: Black Ops 3  ...        2.38         14.63\n",
              "79   78                         FIFA 16  ...        1.28           NaN\n",
              "80   78                         FIFA 16  ...        1.28           NaN\n",
              "\n",
              "[5 rows x 11 columns]"
            ]
          },
          "metadata": {},
          "execution_count": 15
        }
      ]
    },
    {
      "cell_type": "code",
      "metadata": {
        "colab": {
          "base_uri": "https://localhost:8080/",
          "height": 206
        },
        "id": "pflfQcSiQ0x-",
        "outputId": "2fb2708b-5ab0-4d03-8b15-026468b7b3ec"
      },
      "source": [
        "new_dataset1.nsmallest(5, 'Year_of_Release')"
      ],
      "execution_count": null,
      "outputs": [
        {
          "output_type": "execute_result",
          "data": {
            "text/html": [
              "<div>\n",
              "<style scoped>\n",
              "    .dataframe tbody tr th:only-of-type {\n",
              "        vertical-align: middle;\n",
              "    }\n",
              "\n",
              "    .dataframe tbody tr th {\n",
              "        vertical-align: top;\n",
              "    }\n",
              "\n",
              "    .dataframe thead th {\n",
              "        text-align: right;\n",
              "    }\n",
              "</style>\n",
              "<table border=\"1\" class=\"dataframe\">\n",
              "  <thead>\n",
              "    <tr style=\"text-align: right;\">\n",
              "      <th></th>\n",
              "      <th>Id</th>\n",
              "      <th>Name</th>\n",
              "      <th>Platform</th>\n",
              "      <th>Year_of_Release</th>\n",
              "      <th>Genre</th>\n",
              "      <th>Publisher</th>\n",
              "      <th>NA_Sales</th>\n",
              "      <th>EU_Sales</th>\n",
              "      <th>JP_Sales</th>\n",
              "      <th>Other_Sales</th>\n",
              "      <th>Global_Sales</th>\n",
              "    </tr>\n",
              "  </thead>\n",
              "  <tbody>\n",
              "    <tr>\n",
              "      <th>82</th>\n",
              "      <td>79</td>\n",
              "      <td>Halo 2</td>\n",
              "      <td>XB</td>\n",
              "      <td>1804.0</td>\n",
              "      <td>Shooter</td>\n",
              "      <td>Microsoft Game Studios</td>\n",
              "      <td>6.82</td>\n",
              "      <td>1.53</td>\n",
              "      <td>0.05</td>\n",
              "      <td>0.08</td>\n",
              "      <td>NaN</td>\n",
              "    </tr>\n",
              "    <tr>\n",
              "      <th>99</th>\n",
              "      <td>94</td>\n",
              "      <td>The Legend of Zelda: Ocarina of Time</td>\n",
              "      <td>N64</td>\n",
              "      <td>1948.0</td>\n",
              "      <td>Action</td>\n",
              "      <td>NINTENDO</td>\n",
              "      <td>4.10</td>\n",
              "      <td>1.89</td>\n",
              "      <td>1.45</td>\n",
              "      <td>0.16</td>\n",
              "      <td>7.60</td>\n",
              "    </tr>\n",
              "    <tr>\n",
              "      <th>95</th>\n",
              "      <td>90</td>\n",
              "      <td>Pac-Man</td>\n",
              "      <td>2600</td>\n",
              "      <td>1982.0</td>\n",
              "      <td>Puzzle</td>\n",
              "      <td>Atari</td>\n",
              "      <td>7.28</td>\n",
              "      <td>0.45</td>\n",
              "      <td>NaN</td>\n",
              "      <td>0.08</td>\n",
              "      <td>NaN</td>\n",
              "    </tr>\n",
              "    <tr>\n",
              "      <th>9</th>\n",
              "      <td>10</td>\n",
              "      <td>Duck Hunt</td>\n",
              "      <td>NES</td>\n",
              "      <td>1984.0</td>\n",
              "      <td>Shooter</td>\n",
              "      <td>Nintendo</td>\n",
              "      <td>26.93</td>\n",
              "      <td>0.63</td>\n",
              "      <td>0.28</td>\n",
              "      <td>0.47</td>\n",
              "      <td>28.31</td>\n",
              "    </tr>\n",
              "    <tr>\n",
              "      <th>1</th>\n",
              "      <td>2</td>\n",
              "      <td>Super Mario Bros.</td>\n",
              "      <td>NES</td>\n",
              "      <td>1985.0</td>\n",
              "      <td>Platform</td>\n",
              "      <td>Nintendo</td>\n",
              "      <td>29.08</td>\n",
              "      <td>3.58</td>\n",
              "      <td>6.81</td>\n",
              "      <td>0.77</td>\n",
              "      <td>40.24</td>\n",
              "    </tr>\n",
              "  </tbody>\n",
              "</table>\n",
              "</div>"
            ],
            "text/plain": [
              "    Id                                  Name  ... Other_Sales  Global_Sales\n",
              "82  79                                Halo 2  ...        0.08           NaN\n",
              "99  94  The Legend of Zelda: Ocarina of Time  ...        0.16          7.60\n",
              "95  90                               Pac-Man  ...        0.08           NaN\n",
              "9   10                             Duck Hunt  ...        0.47         28.31\n",
              "1    2                     Super Mario Bros.  ...        0.77         40.24\n",
              "\n",
              "[5 rows x 11 columns]"
            ]
          },
          "metadata": {},
          "execution_count": 16
        }
      ]
    },
    {
      "cell_type": "code",
      "metadata": {
        "colab": {
          "base_uri": "https://localhost:8080/",
          "height": 143
        },
        "id": "cz0NaZ6nQ3qO",
        "outputId": "70b2a0fc-2f19-43d7-eaf8-03e969940a30"
      },
      "source": [
        "new_dataset1.loc[[72,82,99]]"
      ],
      "execution_count": null,
      "outputs": [
        {
          "output_type": "execute_result",
          "data": {
            "text/html": [
              "<div>\n",
              "<style scoped>\n",
              "    .dataframe tbody tr th:only-of-type {\n",
              "        vertical-align: middle;\n",
              "    }\n",
              "\n",
              "    .dataframe tbody tr th {\n",
              "        vertical-align: top;\n",
              "    }\n",
              "\n",
              "    .dataframe thead th {\n",
              "        text-align: right;\n",
              "    }\n",
              "</style>\n",
              "<table border=\"1\" class=\"dataframe\">\n",
              "  <thead>\n",
              "    <tr style=\"text-align: right;\">\n",
              "      <th></th>\n",
              "      <th>Id</th>\n",
              "      <th>Name</th>\n",
              "      <th>Platform</th>\n",
              "      <th>Year_of_Release</th>\n",
              "      <th>Genre</th>\n",
              "      <th>Publisher</th>\n",
              "      <th>NA_Sales</th>\n",
              "      <th>EU_Sales</th>\n",
              "      <th>JP_Sales</th>\n",
              "      <th>Other_Sales</th>\n",
              "      <th>Global_Sales</th>\n",
              "    </tr>\n",
              "  </thead>\n",
              "  <tbody>\n",
              "    <tr>\n",
              "      <th>72</th>\n",
              "      <td>71</td>\n",
              "      <td>Call of Duty 4: Modern Warfare</td>\n",
              "      <td>X360</td>\n",
              "      <td>3007.0</td>\n",
              "      <td>Shooter</td>\n",
              "      <td>Activision</td>\n",
              "      <td>5.93</td>\n",
              "      <td>2.36</td>\n",
              "      <td>0.13</td>\n",
              "      <td>0.90</td>\n",
              "      <td>9.31</td>\n",
              "    </tr>\n",
              "    <tr>\n",
              "      <th>82</th>\n",
              "      <td>79</td>\n",
              "      <td>Halo 2</td>\n",
              "      <td>XB</td>\n",
              "      <td>1804.0</td>\n",
              "      <td>Shooter</td>\n",
              "      <td>Microsoft Game Studios</td>\n",
              "      <td>6.82</td>\n",
              "      <td>1.53</td>\n",
              "      <td>0.05</td>\n",
              "      <td>0.08</td>\n",
              "      <td>NaN</td>\n",
              "    </tr>\n",
              "    <tr>\n",
              "      <th>99</th>\n",
              "      <td>94</td>\n",
              "      <td>The Legend of Zelda: Ocarina of Time</td>\n",
              "      <td>N64</td>\n",
              "      <td>1948.0</td>\n",
              "      <td>Action</td>\n",
              "      <td>NINTENDO</td>\n",
              "      <td>4.10</td>\n",
              "      <td>1.89</td>\n",
              "      <td>1.45</td>\n",
              "      <td>0.16</td>\n",
              "      <td>7.60</td>\n",
              "    </tr>\n",
              "  </tbody>\n",
              "</table>\n",
              "</div>"
            ],
            "text/plain": [
              "    Id                                  Name  ... Other_Sales  Global_Sales\n",
              "72  71        Call of Duty 4: Modern Warfare  ...        0.90          9.31\n",
              "82  79                                Halo 2  ...        0.08           NaN\n",
              "99  94  The Legend of Zelda: Ocarina of Time  ...        0.16          7.60\n",
              "\n",
              "[3 rows x 11 columns]"
            ]
          },
          "metadata": {},
          "execution_count": 17
        }
      ]
    },
    {
      "cell_type": "code",
      "metadata": {
        "id": "JUn7y0BWQ9EF"
      },
      "source": [
        "new_dataset1.loc[72, 'Year_of_Release'] = 2007\n",
        "new_dataset1.loc[82, 'Year_of_Release'] = 2004\n",
        "new_dataset1.loc[99, 'Year_of_Release'] = 1998\n",
        "#arrumando as datas"
      ],
      "execution_count": null,
      "outputs": []
    },
    {
      "cell_type": "code",
      "metadata": {
        "colab": {
          "base_uri": "https://localhost:8080/",
          "height": 143
        },
        "id": "n4rLEiz8RCxm",
        "outputId": "79ad7980-e6ff-4801-90e3-ad71cae9ce12"
      },
      "source": [
        "new_dataset1.loc[[72,82,99]]"
      ],
      "execution_count": null,
      "outputs": [
        {
          "output_type": "execute_result",
          "data": {
            "text/html": [
              "<div>\n",
              "<style scoped>\n",
              "    .dataframe tbody tr th:only-of-type {\n",
              "        vertical-align: middle;\n",
              "    }\n",
              "\n",
              "    .dataframe tbody tr th {\n",
              "        vertical-align: top;\n",
              "    }\n",
              "\n",
              "    .dataframe thead th {\n",
              "        text-align: right;\n",
              "    }\n",
              "</style>\n",
              "<table border=\"1\" class=\"dataframe\">\n",
              "  <thead>\n",
              "    <tr style=\"text-align: right;\">\n",
              "      <th></th>\n",
              "      <th>Id</th>\n",
              "      <th>Name</th>\n",
              "      <th>Platform</th>\n",
              "      <th>Year_of_Release</th>\n",
              "      <th>Genre</th>\n",
              "      <th>Publisher</th>\n",
              "      <th>NA_Sales</th>\n",
              "      <th>EU_Sales</th>\n",
              "      <th>JP_Sales</th>\n",
              "      <th>Other_Sales</th>\n",
              "      <th>Global_Sales</th>\n",
              "    </tr>\n",
              "  </thead>\n",
              "  <tbody>\n",
              "    <tr>\n",
              "      <th>72</th>\n",
              "      <td>71</td>\n",
              "      <td>Call of Duty 4: Modern Warfare</td>\n",
              "      <td>X360</td>\n",
              "      <td>2007.0</td>\n",
              "      <td>Shooter</td>\n",
              "      <td>Activision</td>\n",
              "      <td>5.93</td>\n",
              "      <td>2.36</td>\n",
              "      <td>0.13</td>\n",
              "      <td>0.90</td>\n",
              "      <td>9.31</td>\n",
              "    </tr>\n",
              "    <tr>\n",
              "      <th>82</th>\n",
              "      <td>79</td>\n",
              "      <td>Halo 2</td>\n",
              "      <td>XB</td>\n",
              "      <td>2004.0</td>\n",
              "      <td>Shooter</td>\n",
              "      <td>Microsoft Game Studios</td>\n",
              "      <td>6.82</td>\n",
              "      <td>1.53</td>\n",
              "      <td>0.05</td>\n",
              "      <td>0.08</td>\n",
              "      <td>NaN</td>\n",
              "    </tr>\n",
              "    <tr>\n",
              "      <th>99</th>\n",
              "      <td>94</td>\n",
              "      <td>The Legend of Zelda: Ocarina of Time</td>\n",
              "      <td>N64</td>\n",
              "      <td>1998.0</td>\n",
              "      <td>Action</td>\n",
              "      <td>NINTENDO</td>\n",
              "      <td>4.10</td>\n",
              "      <td>1.89</td>\n",
              "      <td>1.45</td>\n",
              "      <td>0.16</td>\n",
              "      <td>7.60</td>\n",
              "    </tr>\n",
              "  </tbody>\n",
              "</table>\n",
              "</div>"
            ],
            "text/plain": [
              "    Id                                  Name  ... Other_Sales  Global_Sales\n",
              "72  71        Call of Duty 4: Modern Warfare  ...        0.90          9.31\n",
              "82  79                                Halo 2  ...        0.08           NaN\n",
              "99  94  The Legend of Zelda: Ocarina of Time  ...        0.16          7.60\n",
              "\n",
              "[3 rows x 11 columns]"
            ]
          },
          "metadata": {},
          "execution_count": 19
        }
      ]
    },
    {
      "cell_type": "code",
      "metadata": {
        "colab": {
          "base_uri": "https://localhost:8080/"
        },
        "id": "AxyPii4BRHfF",
        "outputId": "a6ad7490-f014-4568-d92a-13aa142c0b75"
      },
      "source": [
        "new_dataset1.Publisher.value_counts()\n",
        "#arrumando nomes"
      ],
      "execution_count": null,
      "outputs": [
        {
          "output_type": "execute_result",
          "data": {
            "text/plain": [
              "Nintendo                       47\n",
              "Activision                     15\n",
              "Take-Two Interactive           10\n",
              "Electronic Arts                 8\n",
              "Sony Computer Entertainment     8\n",
              "Microsoft Game Studios          6\n",
              "Ubisoft                         2\n",
              "nintendo                        2\n",
              "NINTENDO                        2\n",
              "SquareSoft                      1\n",
              "Ñintendo                        1\n",
              "Sega                            1\n",
              "Bethesda Softworks              1\n",
              "Atari                           1\n",
              "Name: Publisher, dtype: int64"
            ]
          },
          "metadata": {},
          "execution_count": 20
        }
      ]
    },
    {
      "cell_type": "code",
      "metadata": {
        "id": "nnUJi96eRO4O"
      },
      "source": [
        "cond = new_dataset1['Publisher'].isin(['nintendo', 'NINTENDO', 'Ñintendo'])\n",
        "new_dataset1.loc[cond,'Publisher'] = 'Nintendo'"
      ],
      "execution_count": null,
      "outputs": []
    },
    {
      "cell_type": "code",
      "metadata": {
        "colab": {
          "base_uri": "https://localhost:8080/"
        },
        "id": "ri5y0SO8RRJW",
        "outputId": "76896855-a23b-4e7e-973a-0dddcc4e2cf4"
      },
      "source": [
        "new_dataset1.Publisher.value_counts()"
      ],
      "execution_count": null,
      "outputs": [
        {
          "output_type": "execute_result",
          "data": {
            "text/plain": [
              "Nintendo                       52\n",
              "Activision                     15\n",
              "Take-Two Interactive           10\n",
              "Electronic Arts                 8\n",
              "Sony Computer Entertainment     8\n",
              "Microsoft Game Studios          6\n",
              "Ubisoft                         2\n",
              "SquareSoft                      1\n",
              "Sega                            1\n",
              "Bethesda Softworks              1\n",
              "Atari                           1\n",
              "Name: Publisher, dtype: int64"
            ]
          },
          "metadata": {},
          "execution_count": 22
        }
      ]
    },
    {
      "cell_type": "code",
      "metadata": {
        "colab": {
          "base_uri": "https://localhost:8080/"
        },
        "id": "r1qiBqYYRVV1",
        "outputId": "02a65a03-3166-4773-d879-d0c241003611"
      },
      "source": [
        "new_dataset1.Platform.value_counts()\n",
        "#arrumando plataforma"
      ],
      "execution_count": null,
      "outputs": [
        {
          "output_type": "execute_result",
          "data": {
            "text/plain": [
              "DS          13\n",
              "X360        12\n",
              "PS3         10\n",
              "PS4          8\n",
              "Wii          7\n",
              "3DS          7\n",
              "PS2          6\n",
              "GB           6\n",
              "PS           5\n",
              "NES          4\n",
              "N64          4\n",
              "SNES         4\n",
              "X3600000     3\n",
              "GBA          2\n",
              "PC           2\n",
              "XB           1\n",
              "PSP          1\n",
              "XOne         1\n",
              "2600         1\n",
              "Name: Platform, dtype: int64"
            ]
          },
          "metadata": {},
          "execution_count": 23
        }
      ]
    },
    {
      "cell_type": "code",
      "metadata": {
        "id": "H6Z35kigRbRG"
      },
      "source": [
        "cond = new_dataset1['Platform'].isin(['X3600000'])\n",
        "new_dataset1.loc[cond,'Platform'] = 'X360'"
      ],
      "execution_count": null,
      "outputs": []
    },
    {
      "cell_type": "code",
      "metadata": {
        "colab": {
          "base_uri": "https://localhost:8080/"
        },
        "id": "vPOoBbM_Rd3Q",
        "outputId": "bd9d71a3-aca5-498a-dcfd-17abe0304e75"
      },
      "source": [
        "new_dataset1.Platform.value_counts()"
      ],
      "execution_count": null,
      "outputs": [
        {
          "output_type": "execute_result",
          "data": {
            "text/plain": [
              "X360    15\n",
              "DS      13\n",
              "PS3     10\n",
              "PS4      8\n",
              "Wii      7\n",
              "3DS      7\n",
              "PS2      6\n",
              "GB       6\n",
              "PS       5\n",
              "NES      4\n",
              "N64      4\n",
              "SNES     4\n",
              "PC       2\n",
              "GBA      2\n",
              "PSP      1\n",
              "XOne     1\n",
              "2600     1\n",
              "XB       1\n",
              "Name: Platform, dtype: int64"
            ]
          },
          "metadata": {},
          "execution_count": 25
        }
      ]
    },
    {
      "cell_type": "code",
      "metadata": {
        "id": "r2GEPW4ORq7o"
      },
      "source": [
        "new_dataset1['Total_Sales'] = new_dataset1[['NA_Sales', 'EU_Sales', 'JP_Sales', 'Other_Sales']].sum(axis=1)"
      ],
      "execution_count": null,
      "outputs": []
    },
    {
      "cell_type": "code",
      "metadata": {
        "colab": {
          "base_uri": "https://localhost:8080/",
          "height": 206
        },
        "id": "MfXf1sdkRtaw",
        "outputId": "4e7b5ea9-3ec6-46e8-e6a4-eaa32c1460a2"
      },
      "source": [
        "new_dataset1[['NA_Sales', 'EU_Sales', 'JP_Sales', 'Other_Sales', 'Total_Sales', 'Global_Sales']].head()"
      ],
      "execution_count": null,
      "outputs": [
        {
          "output_type": "execute_result",
          "data": {
            "text/html": [
              "<div>\n",
              "<style scoped>\n",
              "    .dataframe tbody tr th:only-of-type {\n",
              "        vertical-align: middle;\n",
              "    }\n",
              "\n",
              "    .dataframe tbody tr th {\n",
              "        vertical-align: top;\n",
              "    }\n",
              "\n",
              "    .dataframe thead th {\n",
              "        text-align: right;\n",
              "    }\n",
              "</style>\n",
              "<table border=\"1\" class=\"dataframe\">\n",
              "  <thead>\n",
              "    <tr style=\"text-align: right;\">\n",
              "      <th></th>\n",
              "      <th>NA_Sales</th>\n",
              "      <th>EU_Sales</th>\n",
              "      <th>JP_Sales</th>\n",
              "      <th>Other_Sales</th>\n",
              "      <th>Total_Sales</th>\n",
              "      <th>Global_Sales</th>\n",
              "    </tr>\n",
              "  </thead>\n",
              "  <tbody>\n",
              "    <tr>\n",
              "      <th>0</th>\n",
              "      <td>41.36</td>\n",
              "      <td>28.96</td>\n",
              "      <td>3.77</td>\n",
              "      <td>8.45</td>\n",
              "      <td>82.54</td>\n",
              "      <td>82.53</td>\n",
              "    </tr>\n",
              "    <tr>\n",
              "      <th>1</th>\n",
              "      <td>29.08</td>\n",
              "      <td>3.58</td>\n",
              "      <td>6.81</td>\n",
              "      <td>0.77</td>\n",
              "      <td>40.24</td>\n",
              "      <td>40.24</td>\n",
              "    </tr>\n",
              "    <tr>\n",
              "      <th>2</th>\n",
              "      <td>15.68</td>\n",
              "      <td>12.76</td>\n",
              "      <td>3.79</td>\n",
              "      <td>3.29</td>\n",
              "      <td>35.52</td>\n",
              "      <td>35.52</td>\n",
              "    </tr>\n",
              "    <tr>\n",
              "      <th>3</th>\n",
              "      <td>15.61</td>\n",
              "      <td>10.93</td>\n",
              "      <td>3.28</td>\n",
              "      <td>2.95</td>\n",
              "      <td>32.77</td>\n",
              "      <td>32.77</td>\n",
              "    </tr>\n",
              "    <tr>\n",
              "      <th>4</th>\n",
              "      <td>11.27</td>\n",
              "      <td>8.89</td>\n",
              "      <td>10.22</td>\n",
              "      <td>1.00</td>\n",
              "      <td>31.38</td>\n",
              "      <td>31.37</td>\n",
              "    </tr>\n",
              "  </tbody>\n",
              "</table>\n",
              "</div>"
            ],
            "text/plain": [
              "   NA_Sales  EU_Sales  JP_Sales  Other_Sales  Total_Sales  Global_Sales\n",
              "0     41.36     28.96      3.77         8.45        82.54         82.53\n",
              "1     29.08      3.58      6.81         0.77        40.24         40.24\n",
              "2     15.68     12.76      3.79         3.29        35.52         35.52\n",
              "3     15.61     10.93      3.28         2.95        32.77         32.77\n",
              "4     11.27      8.89     10.22         1.00        31.38         31.37"
            ]
          },
          "metadata": {},
          "execution_count": 27
        }
      ]
    },
    {
      "cell_type": "code",
      "metadata": {
        "id": "slOT68O9R0NH"
      },
      "source": [
        "new_dataset1 = new_dataset1.drop('Global_Sales', axis='columns')"
      ],
      "execution_count": null,
      "outputs": []
    },
    {
      "cell_type": "code",
      "metadata": {
        "colab": {
          "base_uri": "https://localhost:8080/"
        },
        "id": "afEPwnkRR2dT",
        "outputId": "96e58722-f68b-4713-f1a5-548a328fe8f7"
      },
      "source": [
        "new_dataset1.info()"
      ],
      "execution_count": null,
      "outputs": [
        {
          "output_type": "stream",
          "name": "stdout",
          "text": [
            "<class 'pandas.core.frame.DataFrame'>\n",
            "RangeIndex: 106 entries, 0 to 105\n",
            "Data columns (total 11 columns):\n",
            " #   Column           Non-Null Count  Dtype  \n",
            "---  ------           --------------  -----  \n",
            " 0   Id               106 non-null    int64  \n",
            " 1   Name             105 non-null    object \n",
            " 2   Platform         97 non-null     object \n",
            " 3   Year_of_Release  105 non-null    float64\n",
            " 4   Genre            105 non-null    object \n",
            " 5   Publisher        105 non-null    object \n",
            " 6   NA_Sales         105 non-null    float64\n",
            " 7   EU_Sales         105 non-null    float64\n",
            " 8   JP_Sales         101 non-null    float64\n",
            " 9   Other_Sales      105 non-null    float64\n",
            " 10  Total_Sales      106 non-null    float64\n",
            "dtypes: float64(6), int64(1), object(4)\n",
            "memory usage: 9.2+ KB\n"
          ]
        }
      ]
    },
    {
      "cell_type": "code",
      "metadata": {
        "id": "LOcWdu0MSa5q"
      },
      "source": [
        "#novos gráficos"
      ],
      "execution_count": null,
      "outputs": []
    },
    {
      "cell_type": "code",
      "metadata": {
        "colab": {
          "base_uri": "https://localhost:8080/",
          "height": 330
        },
        "id": "to5sH3NgSTbq",
        "outputId": "cd376b2b-3d35-43af-b7c4-7079891a8fea"
      },
      "source": [
        "sns.countplot(x='Platform', data=new_dataset1)\n",
        "plt.xticks(rotation = 45, ha = 'right')"
      ],
      "execution_count": null,
      "outputs": [
        {
          "output_type": "execute_result",
          "data": {
            "text/plain": [
              "(array([ 0,  1,  2,  3,  4,  5,  6,  7,  8,  9, 10, 11, 12, 13, 14, 15, 16,\n",
              "        17]), <a list of 18 Text major ticklabel objects>)"
            ]
          },
          "metadata": {},
          "execution_count": 30
        },
        {
          "output_type": "display_data",
          "data": {
            "image/png": "[encoded data removed]",
            "text/plain": [
              "<Figure size 432x288 with 1 Axes>"
            ]
          },
          "metadata": {
            "needs_background": "light"
          }
        }
      ]
    },
    {
      "cell_type": "code",
      "metadata": {
        "colab": {
          "base_uri": "https://localhost:8080/",
          "height": 357
        },
        "id": "hJluIXZaSqFZ",
        "outputId": "8f4df154-a56c-4044-bab1-20ffd0f49608"
      },
      "source": [
        "sns.countplot(x='Year_of_Release', data=new_dataset1)\n",
        "plt.xticks(rotation = 90, ha = 'right')"
      ],
      "execution_count": null,
      "outputs": [
        {
          "output_type": "execute_result",
          "data": {
            "text/plain": [
              "(array([ 0,  1,  2,  3,  4,  5,  6,  7,  8,  9, 10, 11, 12, 13, 14, 15, 16,\n",
              "        17, 18, 19, 20, 21, 22, 23, 24, 25, 26, 27]),\n",
              " <a list of 28 Text major ticklabel objects>)"
            ]
          },
          "metadata": {},
          "execution_count": 31
        },
        {
          "output_type": "display_data",
          "data": {
            "image/png": "[encoded data removed]",
            "text/plain": [
              "<Figure size 432x288 with 1 Axes>"
            ]
          },
          "metadata": {
            "needs_background": "light"
          }
        }
      ]
    },
    {
      "cell_type": "code",
      "metadata": {
        "colab": {
          "base_uri": "https://localhost:8080/",
          "height": 419
        },
        "id": "hetI0ZXmSzmy",
        "outputId": "523ce9e6-958b-4bf1-9855-30527ed404ef"
      },
      "source": [
        "sns.countplot(x='Publisher', data=new_dataset1)\n",
        "plt.xticks(rotation = 45, ha = 'right')"
      ],
      "execution_count": null,
      "outputs": [
        {
          "output_type": "execute_result",
          "data": {
            "text/plain": [
              "(array([ 0,  1,  2,  3,  4,  5,  6,  7,  8,  9, 10]),\n",
              " <a list of 11 Text major ticklabel objects>)"
            ]
          },
          "metadata": {},
          "execution_count": 32
        },
        {
          "output_type": "display_data",
          "data": {
            "image/png": "[encoded data removed]",
            "text/plain": [
              "<Figure size 432x288 with 1 Axes>"
            ]
          },
          "metadata": {
            "needs_background": "light"
          }
        }
      ]
    },
    {
      "cell_type": "code",
      "metadata": {
        "colab": {
          "base_uri": "https://localhost:8080/",
          "height": 355
        },
        "id": "XKShFZMfS-qa",
        "outputId": "37b39349-0f2b-4f8a-e8be-e617ef524471"
      },
      "source": [
        "sns.countplot(x='Genre', data=new_dataset1)\n",
        "plt.xticks(rotation = 45, ha = 'right')"
      ],
      "execution_count": null,
      "outputs": [
        {
          "output_type": "execute_result",
          "data": {
            "text/plain": [
              "(array([ 0,  1,  2,  3,  4,  5,  6,  7,  8,  9, 10]),\n",
              " <a list of 11 Text major ticklabel objects>)"
            ]
          },
          "metadata": {},
          "execution_count": 33
        },
        {
          "output_type": "display_data",
          "data": {
            "image/png": "[encoded data removed]",
            "text/plain": [
              "<Figure size 432x288 with 1 Axes>"
            ]
          },
          "metadata": {
            "needs_background": "light"
          }
        }
      ]
    },
    {
      "cell_type": "code",
      "metadata": {
        "id": "JXz6BrKNp0OH"
      },
      "source": [
        "import pandas as pd\n",
        "import seaborn as sns\n",
        "\n",
        "dataset2 = pd.read_csv('/content/drive/MyDrive/Tera/dataset2.csv')"
      ],
      "execution_count": 5,
      "outputs": []
    },
    {
      "cell_type": "code",
      "metadata": {
        "colab": {
          "base_uri": "https://localhost:8080/"
        },
        "id": "gTkLreVwqpag",
        "outputId": "2ff7f1f3-9bd4-4a12-90da-0fcb49526861"
      },
      "source": [
        "dataset2.shape"
      ],
      "execution_count": 6,
      "outputs": [
        {
          "output_type": "execute_result",
          "data": {
            "text/plain": [
              "(16719, 11)"
            ]
          },
          "metadata": {},
          "execution_count": 6
        }
      ]
    },
    {
      "cell_type": "markdown",
      "metadata": {
        "id": "03_dur4cHKID"
      },
      "source": [
        "# **Datasets 2 e 3**\n",
        "\n"
      ]
    },
    {
      "cell_type": "code",
      "metadata": {
        "id": "s_vj_4PCHTrM"
      },
      "source": [
        "import pandas as pd\n",
        "import matplotlib.pyplot as plt\n",
        "import seaborn as sns\n",
        "\n",
        "dataset3 = pd.read_csv('/content/drive/MyDrive/Tera/dataset3.csv')\n"
      ],
      "execution_count": 11,
      "outputs": []
    },
    {
      "cell_type": "code",
      "metadata": {
        "colab": {
          "base_uri": "https://localhost:8080/"
        },
        "id": "RO0pP5XML5rs",
        "outputId": "c5793b0a-5ef3-4111-fea7-09403f505a5d"
      },
      "source": [
        "dataset3.shape\n"
      ],
      "execution_count": null,
      "outputs": [
        {
          "output_type": "execute_result",
          "data": {
            "text/plain": [
              "(16719, 12)"
            ]
          },
          "metadata": {},
          "execution_count": 61
        }
      ]
    },
    {
      "cell_type": "code",
      "metadata": {
        "colab": {
          "base_uri": "https://localhost:8080/"
        },
        "id": "-KPoUQx4qy7f",
        "outputId": "aba242d4-2b25-4ae4-89f9-faf0ee04289a"
      },
      "source": [
        "dataset2.info()"
      ],
      "execution_count": 7,
      "outputs": [
        {
          "output_type": "stream",
          "name": "stdout",
          "text": [
            "<class 'pandas.core.frame.DataFrame'>\n",
            "RangeIndex: 16719 entries, 0 to 16718\n",
            "Data columns (total 11 columns):\n",
            " #   Column           Non-Null Count  Dtype  \n",
            "---  ------           --------------  -----  \n",
            " 0   Id               16719 non-null  int64  \n",
            " 1   Name             16717 non-null  object \n",
            " 2   Platform         16719 non-null  object \n",
            " 3   Year_of_Release  16450 non-null  float64\n",
            " 4   Genre            16717 non-null  object \n",
            " 5   Publisher        16665 non-null  object \n",
            " 6   NA_Sales         16719 non-null  float64\n",
            " 7   EU_Sales         16719 non-null  float64\n",
            " 8   JP_Sales         16719 non-null  float64\n",
            " 9   Other_Sales      16719 non-null  float64\n",
            " 10  Global_Sales     16719 non-null  float64\n",
            "dtypes: float64(6), int64(1), object(4)\n",
            "memory usage: 1.4+ MB\n"
          ]
        }
      ]
    },
    {
      "cell_type": "code",
      "metadata": {
        "colab": {
          "base_uri": "https://localhost:8080/",
          "height": 300
        },
        "id": "oPc9T5cDq19O",
        "outputId": "6eb3e3e8-491d-45b7-a46a-e1af2269b74a"
      },
      "source": [
        "dataset2.describe()"
      ],
      "execution_count": 8,
      "outputs": [
        {
          "output_type": "execute_result",
          "data": {
            "text/html": [
              "<div>\n",
              "<style scoped>\n",
              "    .dataframe tbody tr th:only-of-type {\n",
              "        vertical-align: middle;\n",
              "    }\n",
              "\n",
              "    .dataframe tbody tr th {\n",
              "        vertical-align: top;\n",
              "    }\n",
              "\n",
              "    .dataframe thead th {\n",
              "        text-align: right;\n",
              "    }\n",
              "</style>\n",
              "<table border=\"1\" class=\"dataframe\">\n",
              "  <thead>\n",
              "    <tr style=\"text-align: right;\">\n",
              "      <th></th>\n",
              "      <th>Id</th>\n",
              "      <th>Year_of_Release</th>\n",
              "      <th>NA_Sales</th>\n",
              "      <th>EU_Sales</th>\n",
              "      <th>JP_Sales</th>\n",
              "      <th>Other_Sales</th>\n",
              "      <th>Global_Sales</th>\n",
              "    </tr>\n",
              "  </thead>\n",
              "  <tbody>\n",
              "    <tr>\n",
              "      <th>count</th>\n",
              "      <td>16719.000000</td>\n",
              "      <td>16450.000000</td>\n",
              "      <td>16719.000000</td>\n",
              "      <td>16719.000000</td>\n",
              "      <td>16719.000000</td>\n",
              "      <td>16719.000000</td>\n",
              "      <td>16719.000000</td>\n",
              "    </tr>\n",
              "    <tr>\n",
              "      <th>mean</th>\n",
              "      <td>8360.000000</td>\n",
              "      <td>2006.487356</td>\n",
              "      <td>0.263330</td>\n",
              "      <td>0.145025</td>\n",
              "      <td>0.077602</td>\n",
              "      <td>0.047332</td>\n",
              "      <td>0.533543</td>\n",
              "    </tr>\n",
              "    <tr>\n",
              "      <th>std</th>\n",
              "      <td>4826.503911</td>\n",
              "      <td>5.878995</td>\n",
              "      <td>0.813514</td>\n",
              "      <td>0.503283</td>\n",
              "      <td>0.308818</td>\n",
              "      <td>0.186710</td>\n",
              "      <td>1.547935</td>\n",
              "    </tr>\n",
              "    <tr>\n",
              "      <th>min</th>\n",
              "      <td>1.000000</td>\n",
              "      <td>1980.000000</td>\n",
              "      <td>0.000000</td>\n",
              "      <td>0.000000</td>\n",
              "      <td>0.000000</td>\n",
              "      <td>0.000000</td>\n",
              "      <td>0.010000</td>\n",
              "    </tr>\n",
              "    <tr>\n",
              "      <th>25%</th>\n",
              "      <td>4180.500000</td>\n",
              "      <td>2003.000000</td>\n",
              "      <td>0.000000</td>\n",
              "      <td>0.000000</td>\n",
              "      <td>0.000000</td>\n",
              "      <td>0.000000</td>\n",
              "      <td>0.060000</td>\n",
              "    </tr>\n",
              "    <tr>\n",
              "      <th>50%</th>\n",
              "      <td>8360.000000</td>\n",
              "      <td>2007.000000</td>\n",
              "      <td>0.080000</td>\n",
              "      <td>0.020000</td>\n",
              "      <td>0.000000</td>\n",
              "      <td>0.010000</td>\n",
              "      <td>0.170000</td>\n",
              "    </tr>\n",
              "    <tr>\n",
              "      <th>75%</th>\n",
              "      <td>12539.500000</td>\n",
              "      <td>2010.000000</td>\n",
              "      <td>0.240000</td>\n",
              "      <td>0.110000</td>\n",
              "      <td>0.040000</td>\n",
              "      <td>0.030000</td>\n",
              "      <td>0.470000</td>\n",
              "    </tr>\n",
              "    <tr>\n",
              "      <th>max</th>\n",
              "      <td>16719.000000</td>\n",
              "      <td>2020.000000</td>\n",
              "      <td>41.360000</td>\n",
              "      <td>28.960000</td>\n",
              "      <td>10.220000</td>\n",
              "      <td>10.570000</td>\n",
              "      <td>82.530000</td>\n",
              "    </tr>\n",
              "  </tbody>\n",
              "</table>\n",
              "</div>"
            ],
            "text/plain": [
              "                 Id  Year_of_Release  ...   Other_Sales  Global_Sales\n",
              "count  16719.000000     16450.000000  ...  16719.000000  16719.000000\n",
              "mean    8360.000000      2006.487356  ...      0.047332      0.533543\n",
              "std     4826.503911         5.878995  ...      0.186710      1.547935\n",
              "min        1.000000      1980.000000  ...      0.000000      0.010000\n",
              "25%     4180.500000      2003.000000  ...      0.000000      0.060000\n",
              "50%     8360.000000      2007.000000  ...      0.010000      0.170000\n",
              "75%    12539.500000      2010.000000  ...      0.030000      0.470000\n",
              "max    16719.000000      2020.000000  ...     10.570000     82.530000\n",
              "\n",
              "[8 rows x 7 columns]"
            ]
          },
          "metadata": {},
          "execution_count": 8
        }
      ]
    },
    {
      "cell_type": "code",
      "metadata": {
        "colab": {
          "base_uri": "https://localhost:8080/"
        },
        "id": "GmUPEHM2MVJE",
        "outputId": "e2c75666-8c7b-41ac-d3cc-ebb21f114e69"
      },
      "source": [
        "dataset3.columns"
      ],
      "execution_count": null,
      "outputs": [
        {
          "output_type": "execute_result",
          "data": {
            "text/plain": [
              "Index(['Id', 'Name', 'Platform', 'Year_of_Release', 'Genre', 'Publisher',\n",
              "       'Critic_Score', 'Critic_Count', 'User_Score', 'User_Count', 'Developer',\n",
              "       'Rating'],\n",
              "      dtype='object')"
            ]
          },
          "metadata": {},
          "execution_count": 62
        }
      ]
    },
    {
      "cell_type": "code",
      "metadata": {
        "colab": {
          "base_uri": "https://localhost:8080/"
        },
        "id": "eyaKMLTDMVsr",
        "outputId": "5acf5e2a-4666-40ce-f6e9-54ccdd055d1f"
      },
      "source": [
        "dataset3.info()"
      ],
      "execution_count": null,
      "outputs": [
        {
          "output_type": "stream",
          "name": "stdout",
          "text": [
            "<class 'pandas.core.frame.DataFrame'>\n",
            "RangeIndex: 16719 entries, 0 to 16718\n",
            "Data columns (total 12 columns):\n",
            " #   Column           Non-Null Count  Dtype  \n",
            "---  ------           --------------  -----  \n",
            " 0   Id               16719 non-null  int64  \n",
            " 1   Name             16717 non-null  object \n",
            " 2   Platform         16719 non-null  object \n",
            " 3   Year_of_Release  16450 non-null  float64\n",
            " 4   Genre            16717 non-null  object \n",
            " 5   Publisher        16665 non-null  object \n",
            " 6   Critic_Score     8137 non-null   float64\n",
            " 7   Critic_Count     8137 non-null   float64\n",
            " 8   User_Score       10015 non-null  object \n",
            " 9   User_Count       7590 non-null   float64\n",
            " 10  Developer        10096 non-null  object \n",
            " 11  Rating           9950 non-null   object \n",
            "dtypes: float64(4), int64(1), object(7)\n",
            "memory usage: 1.5+ MB\n"
          ]
        }
      ]
    },
    {
      "cell_type": "code",
      "metadata": {
        "colab": {
          "base_uri": "https://localhost:8080/",
          "height": 297
        },
        "id": "12k4y3sjMkxb",
        "outputId": "9d570b68-49d8-44c7-d2ec-a68d74dd18a0"
      },
      "source": [
        "dataset3.describe()"
      ],
      "execution_count": null,
      "outputs": [
        {
          "output_type": "execute_result",
          "data": {
            "text/html": [
              "<div>\n",
              "<style scoped>\n",
              "    .dataframe tbody tr th:only-of-type {\n",
              "        vertical-align: middle;\n",
              "    }\n",
              "\n",
              "    .dataframe tbody tr th {\n",
              "        vertical-align: top;\n",
              "    }\n",
              "\n",
              "    .dataframe thead th {\n",
              "        text-align: right;\n",
              "    }\n",
              "</style>\n",
              "<table border=\"1\" class=\"dataframe\">\n",
              "  <thead>\n",
              "    <tr style=\"text-align: right;\">\n",
              "      <th></th>\n",
              "      <th>Id</th>\n",
              "      <th>Year_of_Release</th>\n",
              "      <th>Critic_Score</th>\n",
              "      <th>Critic_Count</th>\n",
              "      <th>User_Count</th>\n",
              "    </tr>\n",
              "  </thead>\n",
              "  <tbody>\n",
              "    <tr>\n",
              "      <th>count</th>\n",
              "      <td>16719.000000</td>\n",
              "      <td>16450.000000</td>\n",
              "      <td>8137.000000</td>\n",
              "      <td>8137.000000</td>\n",
              "      <td>7590.000000</td>\n",
              "    </tr>\n",
              "    <tr>\n",
              "      <th>mean</th>\n",
              "      <td>8360.000000</td>\n",
              "      <td>2006.487356</td>\n",
              "      <td>68.967679</td>\n",
              "      <td>26.360821</td>\n",
              "      <td>162.229908</td>\n",
              "    </tr>\n",
              "    <tr>\n",
              "      <th>std</th>\n",
              "      <td>4826.503911</td>\n",
              "      <td>5.878995</td>\n",
              "      <td>13.938165</td>\n",
              "      <td>18.980495</td>\n",
              "      <td>561.282326</td>\n",
              "    </tr>\n",
              "    <tr>\n",
              "      <th>min</th>\n",
              "      <td>1.000000</td>\n",
              "      <td>1980.000000</td>\n",
              "      <td>13.000000</td>\n",
              "      <td>3.000000</td>\n",
              "      <td>4.000000</td>\n",
              "    </tr>\n",
              "    <tr>\n",
              "      <th>25%</th>\n",
              "      <td>4180.500000</td>\n",
              "      <td>2003.000000</td>\n",
              "      <td>60.000000</td>\n",
              "      <td>12.000000</td>\n",
              "      <td>10.000000</td>\n",
              "    </tr>\n",
              "    <tr>\n",
              "      <th>50%</th>\n",
              "      <td>8360.000000</td>\n",
              "      <td>2007.000000</td>\n",
              "      <td>71.000000</td>\n",
              "      <td>21.000000</td>\n",
              "      <td>24.000000</td>\n",
              "    </tr>\n",
              "    <tr>\n",
              "      <th>75%</th>\n",
              "      <td>12539.500000</td>\n",
              "      <td>2010.000000</td>\n",
              "      <td>79.000000</td>\n",
              "      <td>36.000000</td>\n",
              "      <td>81.000000</td>\n",
              "    </tr>\n",
              "    <tr>\n",
              "      <th>max</th>\n",
              "      <td>16719.000000</td>\n",
              "      <td>2020.000000</td>\n",
              "      <td>98.000000</td>\n",
              "      <td>113.000000</td>\n",
              "      <td>10665.000000</td>\n",
              "    </tr>\n",
              "  </tbody>\n",
              "</table>\n",
              "</div>"
            ],
            "text/plain": [
              "                 Id  Year_of_Release  Critic_Score  Critic_Count    User_Count\n",
              "count  16719.000000     16450.000000   8137.000000   8137.000000   7590.000000\n",
              "mean    8360.000000      2006.487356     68.967679     26.360821    162.229908\n",
              "std     4826.503911         5.878995     13.938165     18.980495    561.282326\n",
              "min        1.000000      1980.000000     13.000000      3.000000      4.000000\n",
              "25%     4180.500000      2003.000000     60.000000     12.000000     10.000000\n",
              "50%     8360.000000      2007.000000     71.000000     21.000000     24.000000\n",
              "75%    12539.500000      2010.000000     79.000000     36.000000     81.000000\n",
              "max    16719.000000      2020.000000     98.000000    113.000000  10665.000000"
            ]
          },
          "metadata": {},
          "execution_count": 64
        }
      ]
    },
    {
      "cell_type": "code",
      "metadata": {
        "colab": {
          "base_uri": "https://localhost:8080/"
        },
        "id": "c90Wgq7cMtb1",
        "outputId": "e425da42-48eb-4ee8-f011-65fb5ebdd126"
      },
      "source": [
        " dataset3.isnull().sum()"
      ],
      "execution_count": null,
      "outputs": [
        {
          "output_type": "execute_result",
          "data": {
            "text/plain": [
              "Id                    0\n",
              "Name                  2\n",
              "Platform              0\n",
              "Year_of_Release     269\n",
              "Genre                 2\n",
              "Publisher            54\n",
              "Critic_Score       8582\n",
              "Critic_Count       8582\n",
              "User_Score         6704\n",
              "User_Count         9129\n",
              "Developer          6623\n",
              "Rating             6769\n",
              "dtype: int64"
            ]
          },
          "metadata": {},
          "execution_count": 66
        }
      ]
    },
    {
      "cell_type": "code",
      "metadata": {
        "colab": {
          "base_uri": "https://localhost:8080/",
          "height": 353
        },
        "id": "jx5Ouv8TmETe",
        "outputId": "d968b7cd-195c-4ab1-b903-c1f1d338b363"
      },
      "source": [
        "sns.countplot(x='Year_of_Release', data=dataset3)\n",
        "plt.xticks(rotation = 45, ha = 'right')"
      ],
      "execution_count": null,
      "outputs": [
        {
          "output_type": "execute_result",
          "data": {
            "text/plain": [
              "(array([ 0,  1,  2,  3,  4,  5,  6,  7,  8,  9, 10, 11, 12, 13, 14, 15, 16,\n",
              "        17, 18, 19, 20, 21, 22, 23, 24, 25, 26, 27, 28, 29, 30, 31, 32, 33,\n",
              "        34, 35, 36, 37, 38]), <a list of 39 Text major ticklabel objects>)"
            ]
          },
          "metadata": {},
          "execution_count": 96
        },
        {
          "output_type": "display_data",
          "data": {
            "image/png": "[encoded data removed]",
            "text/plain": [
              "<Figure size 432x288 with 1 Axes>"
            ]
          },
          "metadata": {
            "needs_background": "light"
          }
        }
      ]
    },
    {
      "cell_type": "code",
      "metadata": {
        "colab": {
          "base_uri": "https://localhost:8080/",
          "height": 347
        },
        "id": "n0dDh-isnpE6",
        "outputId": "b975c443-83a0-4379-eff6-5ff92bb0ad23"
      },
      "source": [
        "sns.countplot(x='Platform', data=dataset3)\n",
        "plt.xticks(rotation = 50, ha = 'right')"
      ],
      "execution_count": null,
      "outputs": [
        {
          "output_type": "execute_result",
          "data": {
            "text/plain": [
              "(array([ 0,  1,  2,  3,  4,  5,  6,  7,  8,  9, 10, 11, 12, 13, 14, 15, 16,\n",
              "        17, 18, 19, 20, 21, 22, 23, 24, 25, 26, 27, 28, 29, 30]),\n",
              " <a list of 31 Text major ticklabel objects>)"
            ]
          },
          "metadata": {},
          "execution_count": 106
        },
        {
          "output_type": "display_data",
          "data": {
            "image/png": "[encoded data removed]",
            "text/plain": [
              "<Figure size 432x288 with 1 Axes>"
            ]
          },
          "metadata": {
            "needs_background": "light"
          }
        }
      ]
    },
    {
      "cell_type": "code",
      "metadata": {
        "colab": {
          "base_uri": "https://localhost:8080/",
          "height": 356
        },
        "id": "f1MpUuJ8nDbq",
        "outputId": "7b7bc1e5-1164-4354-832b-f3bcaf379178"
      },
      "source": [
        "sns.countplot(x='Genre', data=dataset3)\n",
        "plt.xticks(rotation = 45, ha = 'right')"
      ],
      "execution_count": null,
      "outputs": [
        {
          "output_type": "execute_result",
          "data": {
            "text/plain": [
              "(array([ 0,  1,  2,  3,  4,  5,  6,  7,  8,  9, 10, 11]),\n",
              " <a list of 12 Text major ticklabel objects>)"
            ]
          },
          "metadata": {},
          "execution_count": 101
        },
        {
          "output_type": "display_data",
          "data": {
            "image/png": "[encoded data removed]",
            "text/plain": [
              "<Figure size 432x288 with 1 Axes>"
            ]
          },
          "metadata": {
            "needs_background": "light"
          }
        }
      ]
    },
    {
      "cell_type": "code",
      "metadata": {
        "id": "ZqDYddbCrH4N"
      },
      "source": [
        "final_dataset = pd.merge(dataset2, dataset3, on=['Id', 'Name', 'Platform', 'Year_of_Release', 'Genre', 'Publisher'])"
      ],
      "execution_count": 12,
      "outputs": []
    },
    {
      "cell_type": "code",
      "metadata": {
        "colab": {
          "base_uri": "https://localhost:8080/"
        },
        "id": "ClIwZfQgrsLw",
        "outputId": "c530f910-31d4-4a52-d23e-d04b1d9e1369"
      },
      "source": [
        "final_dataset.info()"
      ],
      "execution_count": 14,
      "outputs": [
        {
          "output_type": "stream",
          "name": "stdout",
          "text": [
            "<class 'pandas.core.frame.DataFrame'>\n",
            "Int64Index: 16719 entries, 0 to 16718\n",
            "Data columns (total 17 columns):\n",
            " #   Column           Non-Null Count  Dtype  \n",
            "---  ------           --------------  -----  \n",
            " 0   Id               16719 non-null  int64  \n",
            " 1   Name             16717 non-null  object \n",
            " 2   Platform         16719 non-null  object \n",
            " 3   Year_of_Release  16450 non-null  float64\n",
            " 4   Genre            16717 non-null  object \n",
            " 5   Publisher        16665 non-null  object \n",
            " 6   NA_Sales         16719 non-null  float64\n",
            " 7   EU_Sales         16719 non-null  float64\n",
            " 8   JP_Sales         16719 non-null  float64\n",
            " 9   Other_Sales      16719 non-null  float64\n",
            " 10  Global_Sales     16719 non-null  float64\n",
            " 11  Critic_Score     8137 non-null   float64\n",
            " 12  Critic_Count     8137 non-null   float64\n",
            " 13  User_Score       10015 non-null  object \n",
            " 14  User_Count       7590 non-null   float64\n",
            " 15  Developer        10096 non-null  object \n",
            " 16  Rating           9950 non-null   object \n",
            "dtypes: float64(9), int64(1), object(7)\n",
            "memory usage: 2.3+ MB\n"
          ]
        }
      ]
    },
    {
      "cell_type": "code",
      "metadata": {
        "colab": {
          "base_uri": "https://localhost:8080/",
          "height": 296
        },
        "id": "PlLuwhPnsCu1",
        "outputId": "2dc96580-1e02-4781-b1f6-5f8e96139b1a"
      },
      "source": [
        "final_dataset.head()"
      ],
      "execution_count": 15,
      "outputs": [
        {
          "output_type": "execute_result",
          "data": {
            "text/html": [
              "<div>\n",
              "<style scoped>\n",
              "    .dataframe tbody tr th:only-of-type {\n",
              "        vertical-align: middle;\n",
              "    }\n",
              "\n",
              "    .dataframe tbody tr th {\n",
              "        vertical-align: top;\n",
              "    }\n",
              "\n",
              "    .dataframe thead th {\n",
              "        text-align: right;\n",
              "    }\n",
              "</style>\n",
              "<table border=\"1\" class=\"dataframe\">\n",
              "  <thead>\n",
              "    <tr style=\"text-align: right;\">\n",
              "      <th></th>\n",
              "      <th>Id</th>\n",
              "      <th>Name</th>\n",
              "      <th>Platform</th>\n",
              "      <th>Year_of_Release</th>\n",
              "      <th>Genre</th>\n",
              "      <th>Publisher</th>\n",
              "      <th>NA_Sales</th>\n",
              "      <th>EU_Sales</th>\n",
              "      <th>JP_Sales</th>\n",
              "      <th>Other_Sales</th>\n",
              "      <th>Global_Sales</th>\n",
              "      <th>Critic_Score</th>\n",
              "      <th>Critic_Count</th>\n",
              "      <th>User_Score</th>\n",
              "      <th>User_Count</th>\n",
              "      <th>Developer</th>\n",
              "      <th>Rating</th>\n",
              "    </tr>\n",
              "  </thead>\n",
              "  <tbody>\n",
              "    <tr>\n",
              "      <th>0</th>\n",
              "      <td>1</td>\n",
              "      <td>Wii Sports</td>\n",
              "      <td>Wii</td>\n",
              "      <td>2006.0</td>\n",
              "      <td>Sports</td>\n",
              "      <td>Nintendo</td>\n",
              "      <td>41.36</td>\n",
              "      <td>28.96</td>\n",
              "      <td>3.77</td>\n",
              "      <td>8.45</td>\n",
              "      <td>82.53</td>\n",
              "      <td>76.0</td>\n",
              "      <td>51.0</td>\n",
              "      <td>8</td>\n",
              "      <td>322.0</td>\n",
              "      <td>Nintendo</td>\n",
              "      <td>E</td>\n",
              "    </tr>\n",
              "    <tr>\n",
              "      <th>1</th>\n",
              "      <td>2</td>\n",
              "      <td>Super Mario Bros.</td>\n",
              "      <td>NES</td>\n",
              "      <td>1985.0</td>\n",
              "      <td>Platform</td>\n",
              "      <td>Nintendo</td>\n",
              "      <td>29.08</td>\n",
              "      <td>3.58</td>\n",
              "      <td>6.81</td>\n",
              "      <td>0.77</td>\n",
              "      <td>40.24</td>\n",
              "      <td>NaN</td>\n",
              "      <td>NaN</td>\n",
              "      <td>NaN</td>\n",
              "      <td>NaN</td>\n",
              "      <td>NaN</td>\n",
              "      <td>NaN</td>\n",
              "    </tr>\n",
              "    <tr>\n",
              "      <th>2</th>\n",
              "      <td>3</td>\n",
              "      <td>Mario Kart Wii</td>\n",
              "      <td>Wii</td>\n",
              "      <td>2008.0</td>\n",
              "      <td>Racing</td>\n",
              "      <td>Nintendo</td>\n",
              "      <td>15.68</td>\n",
              "      <td>12.76</td>\n",
              "      <td>3.79</td>\n",
              "      <td>3.29</td>\n",
              "      <td>35.52</td>\n",
              "      <td>82.0</td>\n",
              "      <td>73.0</td>\n",
              "      <td>8.3</td>\n",
              "      <td>709.0</td>\n",
              "      <td>Nintendo</td>\n",
              "      <td>E</td>\n",
              "    </tr>\n",
              "    <tr>\n",
              "      <th>3</th>\n",
              "      <td>4</td>\n",
              "      <td>Wii Sports Resort</td>\n",
              "      <td>Wii</td>\n",
              "      <td>2009.0</td>\n",
              "      <td>Sports</td>\n",
              "      <td>Nintendo</td>\n",
              "      <td>15.61</td>\n",
              "      <td>10.93</td>\n",
              "      <td>3.28</td>\n",
              "      <td>2.95</td>\n",
              "      <td>32.77</td>\n",
              "      <td>80.0</td>\n",
              "      <td>73.0</td>\n",
              "      <td>8</td>\n",
              "      <td>192.0</td>\n",
              "      <td>Nintendo</td>\n",
              "      <td>E</td>\n",
              "    </tr>\n",
              "    <tr>\n",
              "      <th>4</th>\n",
              "      <td>5</td>\n",
              "      <td>Pokemon Red/Pokemon Blue</td>\n",
              "      <td>GB</td>\n",
              "      <td>1996.0</td>\n",
              "      <td>Role-Playing</td>\n",
              "      <td>Nintendo</td>\n",
              "      <td>11.27</td>\n",
              "      <td>8.89</td>\n",
              "      <td>10.22</td>\n",
              "      <td>1.00</td>\n",
              "      <td>31.37</td>\n",
              "      <td>NaN</td>\n",
              "      <td>NaN</td>\n",
              "      <td>NaN</td>\n",
              "      <td>NaN</td>\n",
              "      <td>NaN</td>\n",
              "      <td>NaN</td>\n",
              "    </tr>\n",
              "  </tbody>\n",
              "</table>\n",
              "</div>"
            ],
            "text/plain": [
              "   Id                      Name Platform  ...  User_Count Developer Rating\n",
              "0   1                Wii Sports      Wii  ...       322.0  Nintendo      E\n",
              "1   2         Super Mario Bros.      NES  ...         NaN       NaN    NaN\n",
              "2   3            Mario Kart Wii      Wii  ...       709.0  Nintendo      E\n",
              "3   4         Wii Sports Resort      Wii  ...       192.0  Nintendo      E\n",
              "4   5  Pokemon Red/Pokemon Blue       GB  ...         NaN       NaN    NaN\n",
              "\n",
              "[5 rows x 17 columns]"
            ]
          },
          "metadata": {},
          "execution_count": 15
        }
      ]
    },
    {
      "cell_type": "code",
      "metadata": {
        "colab": {
          "base_uri": "https://localhost:8080/"
        },
        "id": "MGlcXz9Is3Iy",
        "outputId": "e03397b7-d654-4667-af6b-417db329a49e"
      },
      "source": [
        "final_dataset.shape"
      ],
      "execution_count": 17,
      "outputs": [
        {
          "output_type": "execute_result",
          "data": {
            "text/plain": [
              "(16719, 17)"
            ]
          },
          "metadata": {},
          "execution_count": 17
        }
      ]
    },
    {
      "cell_type": "markdown",
      "metadata": {
        "id": "l6KzgTzRsjdL"
      },
      "source": [
        "* Há neste dataset informações sobre 16719 jogos.\n",
        "* As datas de lançamentos dos jogos são entre os anos de 1980 - 2020.\n",
        "* A coluna de sales não é a quantidade de dinheiro.\n",
        "* Possível verificar o potencial de venda de acordo com cada região do mundo.\n",
        "* Sobre o que pode estar faltando no dataset: receita (valor do jogo), dispositivos móveis onde os jogos são utilizados (saber se joga no computador, no videogame, no celular).\n",
        "* Não há dados granulares. \n",
        "\n",
        "\n"
      ]
    },
    {
      "cell_type": "code",
      "metadata": {
        "id": "7_uJzH9KxEtp"
      },
      "source": [
        "import pandas as pd\n",
        "dataset = pd.read_csv('data/dataset.csv')\n",
        "\n"
      ],
      "execution_count": null,
      "outputs": []
    }
  ]
}