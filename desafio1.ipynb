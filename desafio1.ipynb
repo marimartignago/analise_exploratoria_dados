{
  "nbformat": 4,
  "nbformat_minor": 0,
  "metadata": {
    "colab": {
      "name": "desafio1",
      "provenance": [],
      "mount_file_id": "1tDbsm-CZGRAITSvTfNTO14mKhoo8ywAf",
      "authorship_tag": "ABX9TyOIM/yzUK8j4+wJ/KNYNfUS",
      "include_colab_link": true
    },
    "kernelspec": {
      "name": "python3",
      "display_name": "Python 3"
    },
    "language_info": {
      "name": "python"
    }
  },
  "cells": [
    {
      "cell_type": "markdown",
      "metadata": {
        "id": "view-in-github",
        "colab_type": "text"
      },
      "source": [
        "<a href=\"https://colab.research.google.com/github/marimartignago/analise_exploratoria_dados/blob/main/desafio1.ipynb\" target=\"_parent\"><img src=\"https://colab.research.google.com/assets/colab-badge.svg\" alt=\"Open In Colab\"/></a>"
      ]
    },
    {
      "cell_type": "markdown",
      "metadata": {
        "id": "4Fk57I2od9wT"
      },
      "source": [
        "# Aquecendo\n",
        "\n",
        "Usando o dataset 1, registre suas impressões iniciais em um documento e em seguida trabalhe nos itens a seguir. \n",
        "\n",
        "**01- Dataset e seu contexto**"
      ]
    },
    {
      "cell_type": "code",
      "metadata": {
        "id": "1kJcjikbnoiC"
      },
      "source": [
        "import pandas as pd\n",
        "import matplotlib.pyplot as plt\n",
        "\n",
        "dataset1 = pd.read_csv('/content/drive/MyDrive/Tera/dataset1.csv', encoding='ISO-8859-1')"
      ],
      "execution_count": null,
      "outputs": []
    },
    {
      "cell_type": "markdown",
      "metadata": {
        "id": "ffbVnUowp4iS"
      },
      "source": [
        "\n",
        "\n",
        "**Quantas linhas e quantas colunas esse dataset possui?**"
      ]
    },
    {
      "cell_type": "code",
      "metadata": {
        "colab": {
          "base_uri": "https://localhost:8080/"
        },
        "id": "AtCanDFzpmm6",
        "outputId": "0e67883a-1495-4a74-94c3-7a6111ce884d"
      },
      "source": [
        "dataset1.shape"
      ],
      "execution_count": null,
      "outputs": [
        {
          "output_type": "execute_result",
          "data": {
            "text/plain": [
              "(106, 11)"
            ]
          },
          "metadata": {},
          "execution_count": 17
        }
      ]
    },
    {
      "cell_type": "markdown",
      "metadata": {
        "id": "dOUOE5jCqnIU"
      },
      "source": [
        "**Faça um dicionário das colunas contendo o nome da coluna, o tipo do dado, e seu significado.**"
      ]
    },
    {
      "cell_type": "code",
      "metadata": {
        "colab": {
          "base_uri": "https://localhost:8080/"
        },
        "id": "TGTgLLPQqow6",
        "outputId": "66d16076-49e1-45a1-a1ca-e0a197384ef1"
      },
      "source": [
        "dataset1.columns"
      ],
      "execution_count": null,
      "outputs": [
        {
          "output_type": "execute_result",
          "data": {
            "text/plain": [
              "Index(['Id', 'Name', 'Platform', 'Year_of_Release', 'Genre', 'Publisher',\n",
              "       'NA_Sales', 'EU_Sales', 'JP_Sales', 'Other_Sales', 'Global_Sales'],\n",
              "      dtype='object')"
            ]
          },
          "metadata": {},
          "execution_count": 18
        }
      ]
    },
    {
      "cell_type": "markdown",
      "metadata": {
        "id": "1lSUvImKGCqU"
      },
      "source": [
        "**Analise o seu dicionário e adicione mais uma informação. Tipo da variável: Categórica ou Quantitativa. Acrescente ainda as subdivisões:**\n",
        "\n",
        "**- Categórica: Binária, Nominal, Ordinal**\n",
        "\n",
        "**- Quantitativa: Discreta, Contínua**\n",
        "\n",
        "Id: categórica ordinal </br>\n",
        "Name: categórica nominal</br>\n",
        "Platform: categórica nominal</br>\n",
        "Year_of_Release: categórica ordinal</br>\n",
        "Genre: categórica nominal</br>\n",
        "Publisher: categórica nominal</br>\n",
        "NA_Sales:  discreta</br>\n",
        "EU_Sales:discreta</br>\n",
        "JP_Sales: discreta</br>\n",
        "Other_Sales:discreta</br>\n",
        "Global_Sales:discreta"
      ]
    },
    {
      "cell_type": "markdown",
      "metadata": {
        "id": "OE7W0XquGJnR"
      },
      "source": [
        "**Explique como esse Dataset pode ter sido coletado e descreva:**\n",
        "\n",
        "**- possíveis fontes para esse dataset** </br>\n",
        "loja de games, com cadastro manual de jogos.\n",
        "\n",
        "**- potenciais transformações desde a fonte até a disponibilização do dataset**</br>\n",
        "definir melhor algumas colunas (permitir que o campo data seja escrito de uma única maneira; padronizar o tipo de resposta, o input); unidade de medida para as colunas de sales. \n",
        "\n",
        "**Aponte possíveis vieses de coleta** </br>\n",
        "Viés de seleção:  Quando a amostra de unidades usada para uma análise estatística é limitada de alguma maneira por processos não aleatórios, existe a possibilidade de viés de seleção."
      ]
    },
    {
      "cell_type": "markdown",
      "metadata": {
        "id": "4wvKOES0GU0q"
      },
      "source": [
        "**02. Validação de dados e entendimento das variáveis**"
      ]
    },
    {
      "cell_type": "code",
      "metadata": {
        "colab": {
          "base_uri": "https://localhost:8080/"
        },
        "id": "fdXDeemgrx5T",
        "outputId": "fd34a298-58a2-4c31-f1aa-043aa08d3198"
      },
      "source": [
        "dataset1.info()"
      ],
      "execution_count": null,
      "outputs": [
        {
          "output_type": "stream",
          "name": "stdout",
          "text": [
            "<class 'pandas.core.frame.DataFrame'>\n",
            "RangeIndex: 106 entries, 0 to 105\n",
            "Data columns (total 11 columns):\n",
            " #   Column           Non-Null Count  Dtype \n",
            "---  ------           --------------  ----- \n",
            " 0   Id               106 non-null    int64 \n",
            " 1   Name             105 non-null    object\n",
            " 2   Platform         97 non-null     object\n",
            " 3   Year_of_Release  105 non-null    object\n",
            " 4   Genre            105 non-null    object\n",
            " 5   Publisher        105 non-null    object\n",
            " 6   NA_Sales         105 non-null    object\n",
            " 7   EU_Sales         105 non-null    object\n",
            " 8   JP_Sales         101 non-null    object\n",
            " 9   Other_Sales      105 non-null    object\n",
            " 10  Global_Sales     77 non-null     object\n",
            "dtypes: int64(1), object(10)\n",
            "memory usage: 9.2+ KB\n"
          ]
        }
      ]
    },
    {
      "cell_type": "markdown",
      "metadata": {
        "id": "I2Q2oDgzsK6b"
      },
      "source": [
        "**Quantos registros faltantes (dados nulos) por coluna?**"
      ]
    },
    {
      "cell_type": "code",
      "metadata": {
        "colab": {
          "base_uri": "https://localhost:8080/"
        },
        "id": "r2A6E4KDtCa6",
        "outputId": "5941badb-e12f-443f-c710-73135c053009"
      },
      "source": [
        " dataset1.isnull().sum()"
      ],
      "execution_count": null,
      "outputs": [
        {
          "output_type": "execute_result",
          "data": {
            "text/plain": [
              "Id                  0\n",
              "Name                1\n",
              "Platform            9\n",
              "Year_of_Release     1\n",
              "Genre               1\n",
              "Publisher           1\n",
              "NA_Sales            1\n",
              "EU_Sales            1\n",
              "JP_Sales            5\n",
              "Other_Sales         1\n",
              "Global_Sales       29\n",
              "dtype: int64"
            ]
          },
          "metadata": {},
          "execution_count": 28
        }
      ]
    },
    {
      "cell_type": "markdown",
      "metadata": {
        "id": "O4gnMfjCugwE"
      },
      "source": [
        "**Avalie a unicidade dos dados. Há duplicatas de linhas?**"
      ]
    },
    {
      "cell_type": "code",
      "metadata": {
        "colab": {
          "base_uri": "https://localhost:8080/"
        },
        "id": "nM3GdDjHvtbk",
        "outputId": "854aa215-3e74-466c-a4f7-c0145746e3c0"
      },
      "source": [
        "dataset1.duplicated()"
      ],
      "execution_count": null,
      "outputs": [
        {
          "output_type": "execute_result",
          "data": {
            "text/plain": [
              "0      False\n",
              "1      False\n",
              "2      False\n",
              "3      False\n",
              "4      False\n",
              "       ...  \n",
              "101    False\n",
              "102    False\n",
              "103    False\n",
              "104    False\n",
              "105    False\n",
              "Length: 106, dtype: bool"
            ]
          },
          "metadata": {},
          "execution_count": 34
        }
      ]
    },
    {
      "cell_type": "code",
      "metadata": {
        "colab": {
          "base_uri": "https://localhost:8080/",
          "height": 470
        },
        "id": "7t6eM5lbwEyr",
        "outputId": "0aaf9a1c-66ab-4383-e316-97b99312a8f9"
      },
      "source": [
        "dataset1.drop_duplicates()"
      ],
      "execution_count": null,
      "outputs": [
        {
          "output_type": "execute_result",
          "data": {
            "text/html": [
              "<div>\n",
              "<style scoped>\n",
              "    .dataframe tbody tr th:only-of-type {\n",
              "        vertical-align: middle;\n",
              "    }\n",
              "\n",
              "    .dataframe tbody tr th {\n",
              "        vertical-align: top;\n",
              "    }\n",
              "\n",
              "    .dataframe thead th {\n",
              "        text-align: right;\n",
              "    }\n",
              "</style>\n",
              "<table border=\"1\" class=\"dataframe\">\n",
              "  <thead>\n",
              "    <tr style=\"text-align: right;\">\n",
              "      <th></th>\n",
              "      <th>Id</th>\n",
              "      <th>Name</th>\n",
              "      <th>Platform</th>\n",
              "      <th>Year_of_Release</th>\n",
              "      <th>Genre</th>\n",
              "      <th>Publisher</th>\n",
              "      <th>NA_Sales</th>\n",
              "      <th>EU_Sales</th>\n",
              "      <th>JP_Sales</th>\n",
              "      <th>Other_Sales</th>\n",
              "      <th>Global_Sales</th>\n",
              "    </tr>\n",
              "  </thead>\n",
              "  <tbody>\n",
              "    <tr>\n",
              "      <th>0</th>\n",
              "      <td>1</td>\n",
              "      <td>Wii Sports</td>\n",
              "      <td>NaN</td>\n",
              "      <td>2006</td>\n",
              "      <td>Sports</td>\n",
              "      <td>Nintendo</td>\n",
              "      <td>41.36</td>\n",
              "      <td>28.96</td>\n",
              "      <td>3.77</td>\n",
              "      <td>8.45</td>\n",
              "      <td>82.53</td>\n",
              "    </tr>\n",
              "    <tr>\n",
              "      <th>1</th>\n",
              "      <td>2</td>\n",
              "      <td>Super Mario Bros.</td>\n",
              "      <td>NES</td>\n",
              "      <td>1985</td>\n",
              "      <td>Platform</td>\n",
              "      <td>Nintendo</td>\n",
              "      <td>29.08</td>\n",
              "      <td>3.58</td>\n",
              "      <td>6.81</td>\n",
              "      <td>0.77</td>\n",
              "      <td>40.24</td>\n",
              "    </tr>\n",
              "    <tr>\n",
              "      <th>2</th>\n",
              "      <td>3</td>\n",
              "      <td>Mario Kart Wii</td>\n",
              "      <td>NaN</td>\n",
              "      <td>2008</td>\n",
              "      <td>Racing</td>\n",
              "      <td>Nintendo</td>\n",
              "      <td>15.68</td>\n",
              "      <td>12.76</td>\n",
              "      <td>3.79</td>\n",
              "      <td>3.29</td>\n",
              "      <td>35.52</td>\n",
              "    </tr>\n",
              "    <tr>\n",
              "      <th>3</th>\n",
              "      <td>4</td>\n",
              "      <td>Wii Sports Resort</td>\n",
              "      <td>NaN</td>\n",
              "      <td>2009</td>\n",
              "      <td>Sports</td>\n",
              "      <td>Nintendo</td>\n",
              "      <td>15.61</td>\n",
              "      <td>10.93</td>\n",
              "      <td>3.28</td>\n",
              "      <td>2.95</td>\n",
              "      <td>32.77</td>\n",
              "    </tr>\n",
              "    <tr>\n",
              "      <th>4</th>\n",
              "      <td>5</td>\n",
              "      <td>Pokemon Red/Pokemon Blue</td>\n",
              "      <td>GB</td>\n",
              "      <td>1996</td>\n",
              "      <td>Role-Playing</td>\n",
              "      <td>Nintendo</td>\n",
              "      <td>11.27</td>\n",
              "      <td>8.89</td>\n",
              "      <td>10.22</td>\n",
              "      <td>1,0</td>\n",
              "      <td>31.37</td>\n",
              "    </tr>\n",
              "    <tr>\n",
              "      <th>...</th>\n",
              "      <td>...</td>\n",
              "      <td>...</td>\n",
              "      <td>...</td>\n",
              "      <td>...</td>\n",
              "      <td>...</td>\n",
              "      <td>...</td>\n",
              "      <td>...</td>\n",
              "      <td>...</td>\n",
              "      <td>...</td>\n",
              "      <td>...</td>\n",
              "      <td>...</td>\n",
              "    </tr>\n",
              "    <tr>\n",
              "      <th>101</th>\n",
              "      <td>96</td>\n",
              "      <td>Crash Bandicoot 2: Cortex Strikes Back</td>\n",
              "      <td>PS</td>\n",
              "      <td>1997</td>\n",
              "      <td>Platform</td>\n",
              "      <td>Sony Computer Entertainment</td>\n",
              "      <td>3.78</td>\n",
              "      <td>2.17</td>\n",
              "      <td>1.31</td>\n",
              "      <td>0.31</td>\n",
              "      <td>NaN</td>\n",
              "    </tr>\n",
              "    <tr>\n",
              "      <th>102</th>\n",
              "      <td>97</td>\n",
              "      <td>Super Smash Bros. for Wii U and 3DS</td>\n",
              "      <td>3DS</td>\n",
              "      <td>2014</td>\n",
              "      <td>Fighting</td>\n",
              "      <td>Nintendo</td>\n",
              "      <td>3.27</td>\n",
              "      <td>1.37</td>\n",
              "      <td>2.43</td>\n",
              "      <td>0.48</td>\n",
              "      <td>NaN</td>\n",
              "    </tr>\n",
              "    <tr>\n",
              "      <th>103</th>\n",
              "      <td>98</td>\n",
              "      <td>Super Mario Galaxy 2</td>\n",
              "      <td>Wii</td>\n",
              "      <td>2010</td>\n",
              "      <td>Platform</td>\n",
              "      <td>Nintendo</td>\n",
              "      <td>3.56</td>\n",
              "      <td>2.35</td>\n",
              "      <td>0.98</td>\n",
              "      <td>0.62</td>\n",
              "      <td>NaN</td>\n",
              "    </tr>\n",
              "    <tr>\n",
              "      <th>104</th>\n",
              "      <td>99</td>\n",
              "      <td>Super Mario Bros. 2</td>\n",
              "      <td>NES</td>\n",
              "      <td>1988</td>\n",
              "      <td>Platform</td>\n",
              "      <td>Nintendo</td>\n",
              "      <td>5.39</td>\n",
              "      <td>1.18</td>\n",
              "      <td>0.7</td>\n",
              "      <td>0.19</td>\n",
              "      <td>7.46</td>\n",
              "    </tr>\n",
              "    <tr>\n",
              "      <th>105</th>\n",
              "      <td>100</td>\n",
              "      <td>Call of Duty: Black Ops 3</td>\n",
              "      <td>XOne</td>\n",
              "      <td>2015</td>\n",
              "      <td>Shooter</td>\n",
              "      <td>Activision</td>\n",
              "      <td>4.59</td>\n",
              "      <td>2.11</td>\n",
              "      <td>0.01</td>\n",
              "      <td>0.68</td>\n",
              "      <td>7.39</td>\n",
              "    </tr>\n",
              "  </tbody>\n",
              "</table>\n",
              "<p>101 rows × 11 columns</p>\n",
              "</div>"
            ],
            "text/plain": [
              "      Id                                    Name  ... Other_Sales Global_Sales\n",
              "0      1                              Wii Sports  ...        8.45        82.53\n",
              "1      2                       Super Mario Bros.  ...        0.77        40.24\n",
              "2      3                          Mario Kart Wii  ...        3.29        35.52\n",
              "3      4                       Wii Sports Resort  ...        2.95        32.77\n",
              "4      5                Pokemon Red/Pokemon Blue  ...         1,0        31.37\n",
              "..   ...                                     ...  ...         ...          ...\n",
              "101   96  Crash Bandicoot 2: Cortex Strikes Back  ...        0.31          NaN\n",
              "102   97     Super Smash Bros. for Wii U and 3DS  ...        0.48          NaN\n",
              "103   98                    Super Mario Galaxy 2  ...        0.62          NaN\n",
              "104   99                     Super Mario Bros. 2  ...        0.19         7.46\n",
              "105  100               Call of Duty: Black Ops 3  ...        0.68         7.39\n",
              "\n",
              "[101 rows x 11 columns]"
            ]
          },
          "metadata": {},
          "execution_count": 35
        }
      ]
    },
    {
      "cell_type": "markdown",
      "metadata": {
        "id": "u_RSNwIGwcrM"
      },
      "source": [
        "**Quantitativas: Valores mínimo e máximo. Média e desvio padrão. Mediana, P25 e P75**"
      ]
    },
    {
      "cell_type": "code",
      "metadata": {
        "colab": {
          "base_uri": "https://localhost:8080/",
          "height": 297
        },
        "id": "gkM5Kt5GpXRj",
        "outputId": "0965c717-77b7-4362-ec61-4add86df1301"
      },
      "source": [
        "dataset1.describe()\n",
        "#mean = média\n",
        "#std = desvio padrão"
      ],
      "execution_count": null,
      "outputs": [
        {
          "output_type": "execute_result",
          "data": {
            "text/html": [
              "<div>\n",
              "<style scoped>\n",
              "    .dataframe tbody tr th:only-of-type {\n",
              "        vertical-align: middle;\n",
              "    }\n",
              "\n",
              "    .dataframe tbody tr th {\n",
              "        vertical-align: top;\n",
              "    }\n",
              "\n",
              "    .dataframe thead th {\n",
              "        text-align: right;\n",
              "    }\n",
              "</style>\n",
              "<table border=\"1\" class=\"dataframe\">\n",
              "  <thead>\n",
              "    <tr style=\"text-align: right;\">\n",
              "      <th></th>\n",
              "      <th>Id</th>\n",
              "    </tr>\n",
              "  </thead>\n",
              "  <tbody>\n",
              "    <tr>\n",
              "      <th>count</th>\n",
              "      <td>106.000000</td>\n",
              "    </tr>\n",
              "    <tr>\n",
              "      <th>mean</th>\n",
              "      <td>51.443396</td>\n",
              "    </tr>\n",
              "    <tr>\n",
              "      <th>std</th>\n",
              "      <td>28.997892</td>\n",
              "    </tr>\n",
              "    <tr>\n",
              "      <th>min</th>\n",
              "      <td>1.000000</td>\n",
              "    </tr>\n",
              "    <tr>\n",
              "      <th>25%</th>\n",
              "      <td>26.250000</td>\n",
              "    </tr>\n",
              "    <tr>\n",
              "      <th>50%</th>\n",
              "      <td>52.500000</td>\n",
              "    </tr>\n",
              "    <tr>\n",
              "      <th>75%</th>\n",
              "      <td>77.750000</td>\n",
              "    </tr>\n",
              "    <tr>\n",
              "      <th>max</th>\n",
              "      <td>100.000000</td>\n",
              "    </tr>\n",
              "  </tbody>\n",
              "</table>\n",
              "</div>"
            ],
            "text/plain": [
              "               Id\n",
              "count  106.000000\n",
              "mean    51.443396\n",
              "std     28.997892\n",
              "min      1.000000\n",
              "25%     26.250000\n",
              "50%     52.500000\n",
              "75%     77.750000\n",
              "max    100.000000"
            ]
          },
          "metadata": {},
          "execution_count": 16
        }
      ]
    },
    {
      "cell_type": "code",
      "metadata": {
        "colab": {
          "base_uri": "https://localhost:8080/"
        },
        "id": "F1_aHfIJwhoM",
        "outputId": "ec96b17d-fc83-4f13-d19a-60a35a619758"
      },
      "source": [
        "dataset1.median()"
      ],
      "execution_count": null,
      "outputs": [
        {
          "output_type": "execute_result",
          "data": {
            "text/plain": [
              "Id    52.5\n",
              "dtype: float64"
            ]
          },
          "metadata": {},
          "execution_count": 39
        }
      ]
    },
    {
      "cell_type": "markdown",
      "metadata": {
        "id": "JJBdst_tw7ON"
      },
      "source": [
        "**Crie gráficos que te auxiliam a visualizar os itens anteriores.**"
      ]
    },
    {
      "cell_type": "code",
      "metadata": {
        "colab": {
          "base_uri": "https://localhost:8080/",
          "height": 231
        },
        "id": "dTZtkkIp5yzp",
        "outputId": "a77b8cb8-9065-43aa-d164-5dd8431b80f0"
      },
      "source": [
        "plt.plot([Publisher], [NA_Sales])\n",
        "plt.title('TÍTULO') #adicionando o título\n",
        "plt.xlabel('Publisher') #definindo nome do eixo X\n",
        "plt.ylabel('NA_Sales') #definindo nome do eixo Y\n",
        "\t\n",
        "\n"
      ],
      "execution_count": null,
      "outputs": [
        {
          "output_type": "error",
          "ename": "NameError",
          "evalue": "ignored",
          "traceback": [
            "\u001b[0;31m---------------------------------------------------------------------------\u001b[0m",
            "\u001b[0;31mNameError\u001b[0m                                 Traceback (most recent call last)",
            "\u001b[0;32m<ipython-input-57-c7d37fc9f1bc>\u001b[0m in \u001b[0;36m<module>\u001b[0;34m()\u001b[0m\n\u001b[0;32m----> 1\u001b[0;31m \u001b[0mplt\u001b[0m\u001b[0;34m.\u001b[0m\u001b[0mplot\u001b[0m\u001b[0;34m(\u001b[0m\u001b[0;34m[\u001b[0m\u001b[0mPublisher\u001b[0m\u001b[0;34m]\u001b[0m\u001b[0;34m,\u001b[0m \u001b[0;34m[\u001b[0m\u001b[0mNA_Sales\u001b[0m\u001b[0;34m]\u001b[0m\u001b[0;34m)\u001b[0m\u001b[0;34m\u001b[0m\u001b[0;34m\u001b[0m\u001b[0m\n\u001b[0m\u001b[1;32m      2\u001b[0m \u001b[0mplt\u001b[0m\u001b[0;34m.\u001b[0m\u001b[0mtitle\u001b[0m\u001b[0;34m(\u001b[0m\u001b[0;34m'TÍTULO'\u001b[0m\u001b[0;34m)\u001b[0m \u001b[0;31m#adicionando o título\u001b[0m\u001b[0;34m\u001b[0m\u001b[0;34m\u001b[0m\u001b[0m\n\u001b[1;32m      3\u001b[0m \u001b[0mplt\u001b[0m\u001b[0;34m.\u001b[0m\u001b[0mxlabel\u001b[0m\u001b[0;34m(\u001b[0m\u001b[0;34m'Publisher'\u001b[0m\u001b[0;34m)\u001b[0m \u001b[0;31m#definindo nome do eixo X\u001b[0m\u001b[0;34m\u001b[0m\u001b[0;34m\u001b[0m\u001b[0m\n\u001b[1;32m      4\u001b[0m \u001b[0mplt\u001b[0m\u001b[0;34m.\u001b[0m\u001b[0mylabel\u001b[0m\u001b[0;34m(\u001b[0m\u001b[0;34m'NA_Sales'\u001b[0m\u001b[0;34m)\u001b[0m \u001b[0;31m#definindo nome do eixo Y\u001b[0m\u001b[0;34m\u001b[0m\u001b[0;34m\u001b[0m\u001b[0m\n\u001b[1;32m      5\u001b[0m \u001b[0;34m\u001b[0m\u001b[0m\n",
            "\u001b[0;31mNameError\u001b[0m: name 'Publisher' is not defined"
          ]
        }
      ]
    },
    {
      "cell_type": "markdown",
      "metadata": {
        "id": "XU0ts1ziGepC"
      },
      "source": [
        "**Como está a distribuição dos dados? Existem valores discrepantes? Descreva o que pode significar.**\n",
        "\n",
        "**Quais conclusões você pode tirar até aqui? Você está lidando com dados de qualidade? Existe alguma relação com a coleta? Há dados pessoais expostos?**"
      ]
    },
    {
      "cell_type": "markdown",
      "metadata": {
        "id": "32EUWijiG1gc"
      },
      "source": [
        "**03. Limpeza dos Dados**\n",
        "\n",
        "Caso aplicável, dê uma tratativa para os seguintes itens e explique o motivo da solução aplicada.\n",
        "\n",
        "Validade dos tipos dos dados;\n",
        "\n",
        "Valores discrepantes;\n",
        "\n",
        "Dados inconsistentes"
      ]
    },
    {
      "cell_type": "markdown",
      "metadata": {
        "id": "03_dur4cHKID"
      },
      "source": [
        "# **Corrigindo a rota**\n",
        "\n",
        "Compare os datasets dataset 1 e dataset 2. Quais são as maiores diferenças? O que você acha que pode ter acontecido?\n",
        "\n",
        "Já o dataset 3 é uma extensão do dataset 2, combine-os e revise suas respostas dos passos anteriores (01, 02 e 03). De agora em diante, você usará apenas essa combinação de datasets (dataset 2 e dataset 3) e não mais o dataset 1.\n",
        "\n",
        "Nota: Não sobrescreva as suas anotações dos passos 01, 02 e 03 para o dataset 1. Você irá responder novamente esses passos com as características desse novo dataset (dataset 2 + dataset 3). Crie um novo documento ou uma nova aba ou apenas uma nova seção. Independentemente da sua abordagem, garanta que você tenha documentado todos os passos do desafio."
      ]
    },
    {
      "cell_type": "code",
      "metadata": {
        "id": "s_vj_4PCHTrM"
      },
      "source": [
        "import pandas as pd\n",
        "import matplotlib.pyplot as plt\n",
        "\n",
        "dataset3 = pd.read_csv('/content/drive/MyDrive/Tera/dataset3.csv')\n"
      ],
      "execution_count": null,
      "outputs": []
    },
    {
      "cell_type": "code",
      "metadata": {
        "colab": {
          "base_uri": "https://localhost:8080/"
        },
        "id": "RO0pP5XML5rs",
        "outputId": "c5793b0a-5ef3-4111-fea7-09403f505a5d"
      },
      "source": [
        "dataset3.shape\n"
      ],
      "execution_count": null,
      "outputs": [
        {
          "output_type": "execute_result",
          "data": {
            "text/plain": [
              "(16719, 12)"
            ]
          },
          "metadata": {},
          "execution_count": 61
        }
      ]
    },
    {
      "cell_type": "code",
      "metadata": {
        "colab": {
          "base_uri": "https://localhost:8080/"
        },
        "id": "GmUPEHM2MVJE",
        "outputId": "e2c75666-8c7b-41ac-d3cc-ebb21f114e69"
      },
      "source": [
        "dataset3.columns"
      ],
      "execution_count": null,
      "outputs": [
        {
          "output_type": "execute_result",
          "data": {
            "text/plain": [
              "Index(['Id', 'Name', 'Platform', 'Year_of_Release', 'Genre', 'Publisher',\n",
              "       'Critic_Score', 'Critic_Count', 'User_Score', 'User_Count', 'Developer',\n",
              "       'Rating'],\n",
              "      dtype='object')"
            ]
          },
          "metadata": {},
          "execution_count": 62
        }
      ]
    },
    {
      "cell_type": "code",
      "metadata": {
        "colab": {
          "base_uri": "https://localhost:8080/"
        },
        "id": "eyaKMLTDMVsr",
        "outputId": "5acf5e2a-4666-40ce-f6e9-54ccdd055d1f"
      },
      "source": [
        "dataset3.info()"
      ],
      "execution_count": null,
      "outputs": [
        {
          "output_type": "stream",
          "name": "stdout",
          "text": [
            "<class 'pandas.core.frame.DataFrame'>\n",
            "RangeIndex: 16719 entries, 0 to 16718\n",
            "Data columns (total 12 columns):\n",
            " #   Column           Non-Null Count  Dtype  \n",
            "---  ------           --------------  -----  \n",
            " 0   Id               16719 non-null  int64  \n",
            " 1   Name             16717 non-null  object \n",
            " 2   Platform         16719 non-null  object \n",
            " 3   Year_of_Release  16450 non-null  float64\n",
            " 4   Genre            16717 non-null  object \n",
            " 5   Publisher        16665 non-null  object \n",
            " 6   Critic_Score     8137 non-null   float64\n",
            " 7   Critic_Count     8137 non-null   float64\n",
            " 8   User_Score       10015 non-null  object \n",
            " 9   User_Count       7590 non-null   float64\n",
            " 10  Developer        10096 non-null  object \n",
            " 11  Rating           9950 non-null   object \n",
            "dtypes: float64(4), int64(1), object(7)\n",
            "memory usage: 1.5+ MB\n"
          ]
        }
      ]
    },
    {
      "cell_type": "code",
      "metadata": {
        "colab": {
          "base_uri": "https://localhost:8080/",
          "height": 297
        },
        "id": "12k4y3sjMkxb",
        "outputId": "9d570b68-49d8-44c7-d2ec-a68d74dd18a0"
      },
      "source": [
        "dataset3.describe()"
      ],
      "execution_count": null,
      "outputs": [
        {
          "output_type": "execute_result",
          "data": {
            "text/html": [
              "<div>\n",
              "<style scoped>\n",
              "    .dataframe tbody tr th:only-of-type {\n",
              "        vertical-align: middle;\n",
              "    }\n",
              "\n",
              "    .dataframe tbody tr th {\n",
              "        vertical-align: top;\n",
              "    }\n",
              "\n",
              "    .dataframe thead th {\n",
              "        text-align: right;\n",
              "    }\n",
              "</style>\n",
              "<table border=\"1\" class=\"dataframe\">\n",
              "  <thead>\n",
              "    <tr style=\"text-align: right;\">\n",
              "      <th></th>\n",
              "      <th>Id</th>\n",
              "      <th>Year_of_Release</th>\n",
              "      <th>Critic_Score</th>\n",
              "      <th>Critic_Count</th>\n",
              "      <th>User_Count</th>\n",
              "    </tr>\n",
              "  </thead>\n",
              "  <tbody>\n",
              "    <tr>\n",
              "      <th>count</th>\n",
              "      <td>16719.000000</td>\n",
              "      <td>16450.000000</td>\n",
              "      <td>8137.000000</td>\n",
              "      <td>8137.000000</td>\n",
              "      <td>7590.000000</td>\n",
              "    </tr>\n",
              "    <tr>\n",
              "      <th>mean</th>\n",
              "      <td>8360.000000</td>\n",
              "      <td>2006.487356</td>\n",
              "      <td>68.967679</td>\n",
              "      <td>26.360821</td>\n",
              "      <td>162.229908</td>\n",
              "    </tr>\n",
              "    <tr>\n",
              "      <th>std</th>\n",
              "      <td>4826.503911</td>\n",
              "      <td>5.878995</td>\n",
              "      <td>13.938165</td>\n",
              "      <td>18.980495</td>\n",
              "      <td>561.282326</td>\n",
              "    </tr>\n",
              "    <tr>\n",
              "      <th>min</th>\n",
              "      <td>1.000000</td>\n",
              "      <td>1980.000000</td>\n",
              "      <td>13.000000</td>\n",
              "      <td>3.000000</td>\n",
              "      <td>4.000000</td>\n",
              "    </tr>\n",
              "    <tr>\n",
              "      <th>25%</th>\n",
              "      <td>4180.500000</td>\n",
              "      <td>2003.000000</td>\n",
              "      <td>60.000000</td>\n",
              "      <td>12.000000</td>\n",
              "      <td>10.000000</td>\n",
              "    </tr>\n",
              "    <tr>\n",
              "      <th>50%</th>\n",
              "      <td>8360.000000</td>\n",
              "      <td>2007.000000</td>\n",
              "      <td>71.000000</td>\n",
              "      <td>21.000000</td>\n",
              "      <td>24.000000</td>\n",
              "    </tr>\n",
              "    <tr>\n",
              "      <th>75%</th>\n",
              "      <td>12539.500000</td>\n",
              "      <td>2010.000000</td>\n",
              "      <td>79.000000</td>\n",
              "      <td>36.000000</td>\n",
              "      <td>81.000000</td>\n",
              "    </tr>\n",
              "    <tr>\n",
              "      <th>max</th>\n",
              "      <td>16719.000000</td>\n",
              "      <td>2020.000000</td>\n",
              "      <td>98.000000</td>\n",
              "      <td>113.000000</td>\n",
              "      <td>10665.000000</td>\n",
              "    </tr>\n",
              "  </tbody>\n",
              "</table>\n",
              "</div>"
            ],
            "text/plain": [
              "                 Id  Year_of_Release  Critic_Score  Critic_Count    User_Count\n",
              "count  16719.000000     16450.000000   8137.000000   8137.000000   7590.000000\n",
              "mean    8360.000000      2006.487356     68.967679     26.360821    162.229908\n",
              "std     4826.503911         5.878995     13.938165     18.980495    561.282326\n",
              "min        1.000000      1980.000000     13.000000      3.000000      4.000000\n",
              "25%     4180.500000      2003.000000     60.000000     12.000000     10.000000\n",
              "50%     8360.000000      2007.000000     71.000000     21.000000     24.000000\n",
              "75%    12539.500000      2010.000000     79.000000     36.000000     81.000000\n",
              "max    16719.000000      2020.000000     98.000000    113.000000  10665.000000"
            ]
          },
          "metadata": {},
          "execution_count": 64
        }
      ]
    },
    {
      "cell_type": "code",
      "metadata": {
        "colab": {
          "base_uri": "https://localhost:8080/"
        },
        "id": "c90Wgq7cMtb1",
        "outputId": "e425da42-48eb-4ee8-f011-65fb5ebdd126"
      },
      "source": [
        " dataset3.isnull().sum()"
      ],
      "execution_count": null,
      "outputs": [
        {
          "output_type": "execute_result",
          "data": {
            "text/plain": [
              "Id                    0\n",
              "Name                  2\n",
              "Platform              0\n",
              "Year_of_Release     269\n",
              "Genre                 2\n",
              "Publisher            54\n",
              "Critic_Score       8582\n",
              "Critic_Count       8582\n",
              "User_Score         6704\n",
              "User_Count         9129\n",
              "Developer          6623\n",
              "Rating             6769\n",
              "dtype: int64"
            ]
          },
          "metadata": {},
          "execution_count": 66
        }
      ]
    }
  ]
}